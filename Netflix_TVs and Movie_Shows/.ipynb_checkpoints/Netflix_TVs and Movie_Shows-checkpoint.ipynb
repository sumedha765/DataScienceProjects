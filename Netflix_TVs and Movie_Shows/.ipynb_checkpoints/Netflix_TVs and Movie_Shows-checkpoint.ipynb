{
 "cells": [
  {
   "cell_type": "code",
   "execution_count": 1,
   "metadata": {},
   "outputs": [],
   "source": [
    "import numpy as np\n",
    "import pandas as pd\n",
    "import matplotlib.pyplot as plt\n",
    "import os\n",
    "import seaborn as sns"
   ]
  },
  {
   "cell_type": "code",
   "execution_count": 2,
   "metadata": {
    "pycharm": {
     "name": "#%%\n"
    }
   },
   "outputs": [
    {
     "name": "stdout",
     "output_type": "stream",
     "text": [
      "(6234, 12)\n"
     ]
    }
   ],
   "source": [
    "df = pd.read_csv('netflix_titles.csv')\n",
    "print(df.shape)"
   ]
  },
  {
   "cell_type": "code",
   "execution_count": 3,
   "metadata": {
    "pycharm": {
     "name": "#%%\n"
    }
   },
   "outputs": [
    {
     "name": "stdout",
     "output_type": "stream",
     "text": [
      "show_id            0\n",
      "type               0\n",
      "title              0\n",
      "director        1969\n",
      "cast             570\n",
      "country          476\n",
      "date_added        11\n",
      "release_year       0\n",
      "rating            10\n",
      "duration           0\n",
      "listed_in          0\n",
      "description        0\n",
      "dtype: int64\n",
      "director      1969\n",
      "cast           570\n",
      "country        476\n",
      "date_added      11\n",
      "rating          10\n",
      "dtype: int64\n",
      "director's null rate : 31.584857234520374%\n",
      "cast's null rate : 9.143407122232915%\n",
      "country's null rate : 7.635547000320821%\n",
      "date_added's null rate : 0.17645171639396856%\n",
      "rating's null rate : 0.16041065126724416%\n"
     ]
    }
   ],
   "source": [
    "# Number of null values in each column.\n",
    "print(df.isnull().sum())\n",
    "c=df.isnull().sum()\n",
    "print(c[c>0])\n",
    "\n",
    "for i in df.columns:\n",
    "    null_rate = df[i].isna().sum() / len(df) * 100\n",
    "    if null_rate > 0 :\n",
    "        print(f\"{i}'s null rate : {null_rate}%\")"
   ]
  },
  {
   "cell_type": "code",
   "execution_count": 4,
   "metadata": {
    "pycharm": {
     "name": "#%%\n"
    }
   },
   "outputs": [
    {
     "name": "stdout",
     "output_type": "stream",
     "text": [
      "True\n"
     ]
    }
   ],
   "source": [
    "id = pd.Series(df['show_id'])\n",
    "print(id.is_unique)"
   ]
  },
  {
   "cell_type": "code",
   "execution_count": 5,
   "metadata": {
    "pycharm": {
     "name": "#%%\n"
    }
   },
   "outputs": [],
   "source": [
    "# Drop duplicates if present.\n",
    "df.drop_duplicates(inplace=True)\n"
   ]
  },
  {
   "cell_type": "code",
   "execution_count": 6,
   "metadata": {
    "pycharm": {
     "name": "#%%\n"
    }
   },
   "outputs": [
    {
     "name": "stdout",
     "output_type": "stream",
     "text": [
      "show_id          int64\n",
      "type            object\n",
      "title           object\n",
      "director        object\n",
      "cast            object\n",
      "country         object\n",
      "date_added      object\n",
      "release_year     int64\n",
      "rating          object\n",
      "duration        object\n",
      "listed_in       object\n",
      "description     object\n",
      "dtype: object\n"
     ]
    }
   ],
   "source": [
    "# Check Datatypes.\n",
    "print(df.dtypes)"
   ]
  },
  {
   "cell_type": "code",
   "execution_count": 7,
   "metadata": {
    "pycharm": {
     "name": "#%%\n"
    }
   },
   "outputs": [
    {
     "name": "stdout",
     "output_type": "stream",
     "text": [
      "       show_id     type                                        title  \\\n",
      "0     81145628    Movie      Norm of the North: King Sized Adventure   \n",
      "0     81145628    Movie      Norm of the North: King Sized Adventure   \n",
      "0     81145628    Movie      Norm of the North: King Sized Adventure   \n",
      "0     81145628    Movie      Norm of the North: King Sized Adventure   \n",
      "1     80117401    Movie                   Jandino: Whatever it Takes   \n",
      "...        ...      ...                                          ...   \n",
      "6229  80000063  TV Show                                 Red vs. Blue   \n",
      "6230  70286564  TV Show                                        Maron   \n",
      "6231  80116008    Movie       Little Baby Bum: Nursery Rhyme Friends   \n",
      "6232  70281022  TV Show  A Young Doctor's Notebook and Other Stories   \n",
      "6233  70153404  TV Show                                      Friends   \n",
      "\n",
      "                      director  \\\n",
      "0     Richard Finn, Tim Maltby   \n",
      "0     Richard Finn, Tim Maltby   \n",
      "0     Richard Finn, Tim Maltby   \n",
      "0     Richard Finn, Tim Maltby   \n",
      "1                          NaN   \n",
      "...                        ...   \n",
      "6229                       NaN   \n",
      "6230                       NaN   \n",
      "6231                       NaN   \n",
      "6232                       NaN   \n",
      "6233                       NaN   \n",
      "\n",
      "                                                   cast         country  \\\n",
      "0     Alan Marriott, Andrew Toth, Brian Dobson, Cole...   United States   \n",
      "0     Alan Marriott, Andrew Toth, Brian Dobson, Cole...           India   \n",
      "0     Alan Marriott, Andrew Toth, Brian Dobson, Cole...     South Korea   \n",
      "0     Alan Marriott, Andrew Toth, Brian Dobson, Cole...           China   \n",
      "1                                      Jandino Asporaat  United Kingdom   \n",
      "...                                                 ...             ...   \n",
      "6229  Burnie Burns, Jason Saldaña, Gustavo Sorola, G...   United States   \n",
      "6230  Marc Maron, Judd Hirsch, Josh Brener, Nora Zeh...   United States   \n",
      "6231                                                NaN             NaN   \n",
      "6232  Daniel Radcliffe, Jon Hamm, Adam Godley, Chris...  United Kingdom   \n",
      "6233  Jennifer Aniston, Courteney Cox, Lisa Kudrow, ...   United States   \n",
      "\n",
      "     date_added  release_year rating    duration  \\\n",
      "0      9-Sep-19          2019  TV-PG      90 min   \n",
      "0      9-Sep-19          2019  TV-PG      90 min   \n",
      "0      9-Sep-19          2019  TV-PG      90 min   \n",
      "0      9-Sep-19          2019  TV-PG      90 min   \n",
      "1      9-Sep-16          2016  TV-MA      94 min   \n",
      "...         ...           ...    ...         ...   \n",
      "6229        NaN          2015     NR  13 Seasons   \n",
      "6230        NaN          2016  TV-MA   4 Seasons   \n",
      "6231        NaN          2016    NaN      60 min   \n",
      "6232        NaN          2013  TV-MA   2 Seasons   \n",
      "6233        NaN          2003  TV-14  10 Seasons   \n",
      "\n",
      "                                              listed_in  \\\n",
      "0                    Children & Family Movies, Comedies   \n",
      "0                    Children & Family Movies, Comedies   \n",
      "0                    Children & Family Movies, Comedies   \n",
      "0                    Children & Family Movies, Comedies   \n",
      "1                                       Stand-Up Comedy   \n",
      "...                                                 ...   \n",
      "6229  TV Action & Adventure, TV Comedies, TV Sci-Fi ...   \n",
      "6230                                        TV Comedies   \n",
      "6231                                             Movies   \n",
      "6232           British TV Shows, TV Comedies, TV Dramas   \n",
      "6233                     Classic & Cult TV, TV Comedies   \n",
      "\n",
      "                                            description  \n",
      "0     Before planning an awesome wedding for his gra...  \n",
      "0     Before planning an awesome wedding for his gra...  \n",
      "0     Before planning an awesome wedding for his gra...  \n",
      "0     Before planning an awesome wedding for his gra...  \n",
      "1     Jandino Asporaat riffs on the challenges of ra...  \n",
      "...                                                 ...  \n",
      "6229  This parody of first-person shooter games, mil...  \n",
      "6230  Marc Maron stars as Marc Maron, who interviews...  \n",
      "6231  Nursery rhymes and original music for children...  \n",
      "6232  Set during the Russian Revolution, this comic ...  \n",
      "6233  This hit sitcom follows the merry misadventure...  \n",
      "\n",
      "[7655 rows x 12 columns]\n",
      "       show_id     type                                        title  \\\n",
      "0     81145628    Movie      Norm of the North: King Sized Adventure   \n",
      "0     81145628    Movie      Norm of the North: King Sized Adventure   \n",
      "1     80117401    Movie                   Jandino: Whatever it Takes   \n",
      "2     70234439  TV Show                           Transformers Prime   \n",
      "3     80058654  TV Show             Transformers: Robots in Disguise   \n",
      "...        ...      ...                                          ...   \n",
      "6232  70281022  TV Show  A Young Doctor's Notebook and Other Stories   \n",
      "6232  70281022  TV Show  A Young Doctor's Notebook and Other Stories   \n",
      "6232  70281022  TV Show  A Young Doctor's Notebook and Other Stories   \n",
      "6233  70153404  TV Show                                      Friends   \n",
      "6233  70153404  TV Show                                      Friends   \n",
      "\n",
      "                      director  \\\n",
      "0     Richard Finn, Tim Maltby   \n",
      "0     Richard Finn, Tim Maltby   \n",
      "1                          NaN   \n",
      "2                          NaN   \n",
      "3                          NaN   \n",
      "...                        ...   \n",
      "6232                       NaN   \n",
      "6232                       NaN   \n",
      "6232                       NaN   \n",
      "6233                       NaN   \n",
      "6233                       NaN   \n",
      "\n",
      "                                                   cast  \\\n",
      "0     Alan Marriott, Andrew Toth, Brian Dobson, Cole...   \n",
      "0     Alan Marriott, Andrew Toth, Brian Dobson, Cole...   \n",
      "1                                      Jandino Asporaat   \n",
      "2     Peter Cullen, Sumalee Montano, Frank Welker, J...   \n",
      "3     Will Friedle, Darren Criss, Constance Zimmer, ...   \n",
      "...                                                 ...   \n",
      "6232  Daniel Radcliffe, Jon Hamm, Adam Godley, Chris...   \n",
      "6232  Daniel Radcliffe, Jon Hamm, Adam Godley, Chris...   \n",
      "6232  Daniel Radcliffe, Jon Hamm, Adam Godley, Chris...   \n",
      "6233  Jennifer Aniston, Courteney Cox, Lisa Kudrow, ...   \n",
      "6233  Jennifer Aniston, Courteney Cox, Lisa Kudrow, ...   \n",
      "\n",
      "                                       country date_added  release_year  \\\n",
      "0     United States, India, South Korea, China   9-Sep-19          2019   \n",
      "0     United States, India, South Korea, China   9-Sep-19          2019   \n",
      "1                               United Kingdom   9-Sep-16          2016   \n",
      "2                                United States   8-Sep-18          2013   \n",
      "3                                United States   8-Sep-18          2016   \n",
      "...                                        ...        ...           ...   \n",
      "6232                            United Kingdom        NaN          2013   \n",
      "6232                            United Kingdom        NaN          2013   \n",
      "6232                            United Kingdom        NaN          2013   \n",
      "6233                             United States        NaN          2003   \n",
      "6233                             United States        NaN          2003   \n",
      "\n",
      "        rating    duration                 listed_in  \\\n",
      "0        TV-PG      90 min  Children & Family Movies   \n",
      "0        TV-PG      90 min                  Comedies   \n",
      "1        TV-MA      94 min           Stand-Up Comedy   \n",
      "2     TV-Y7-FV    1 Season                  Kids' TV   \n",
      "3        TV-Y7    1 Season                  Kids' TV   \n",
      "...        ...         ...                       ...   \n",
      "6232     TV-MA   2 Seasons          British TV Shows   \n",
      "6232     TV-MA   2 Seasons               TV Comedies   \n",
      "6232     TV-MA   2 Seasons                 TV Dramas   \n",
      "6233     TV-14  10 Seasons         Classic & Cult TV   \n",
      "6233     TV-14  10 Seasons               TV Comedies   \n",
      "\n",
      "                                            description  \n",
      "0     Before planning an awesome wedding for his gra...  \n",
      "0     Before planning an awesome wedding for his gra...  \n",
      "1     Jandino Asporaat riffs on the challenges of ra...  \n",
      "2     With the help of three human allies, the Autob...  \n",
      "3     When a prison ship crash unleashes hundreds of...  \n",
      "...                                                 ...  \n",
      "6232  Set during the Russian Revolution, this comic ...  \n",
      "6232  Set during the Russian Revolution, this comic ...  \n",
      "6232  Set during the Russian Revolution, this comic ...  \n",
      "6233  This hit sitcom follows the merry misadventure...  \n",
      "6233  This hit sitcom follows the merry misadventure...  \n",
      "\n",
      "[13670 rows x 12 columns]\n"
     ]
    }
   ],
   "source": [
    "# Splitting the comma separated values in the country column.\n",
    "df1 = df.assign(country= df['country'].str.split(', ')).explode('country')\n",
    "print(df1)\n",
    "\n",
    "# Splitting the comma separated values in the listed_in column\n",
    "df2 = df.assign(listed_in= df['listed_in'].str.split(', ')).explode('listed_in')\n",
    "print(df2)"
   ]
  },
  {
   "cell_type": "code",
   "execution_count": 8,
   "metadata": {
    "pycharm": {
     "name": "#%%\n"
    }
   },
   "outputs": [],
   "source": [
    "# Filling missing values.\n",
    "df['country'] = df['country'].fillna('Undefined')\n",
    "df['rating'] = df['rating'].fillna('Undefined')\n",
    "df['date_added'] = df['date_added'].fillna('01-Jan-20')\n",
    "df['cast'] = df['cast'].fillna('Undefined')\n",
    "df['director'] = df['director'].fillna('Undefined')"
   ]
  },
  {
   "cell_type": "code",
   "execution_count": 9,
   "metadata": {
    "pycharm": {
     "name": "#%%\n"
    }
   },
   "outputs": [],
   "source": [
    "# Cleaning Data.\n",
    "# Converting date in proper format.\n",
    "# Seperating \"date_added\" column into different multiple columns containing month and year.\n",
    "df[\"date_added\"] = pd.to_datetime(df['date_added'])\n",
    "df['year_added'] = df['date_added'].dt.year\n",
    "df['month_added'] = df['date_added'].dt.month\n",
    "df.drop(['date_added'],axis =1,inplace = True)"
   ]
  },
  {
   "cell_type": "code",
   "execution_count": 10,
   "metadata": {
    "pycharm": {
     "name": "#%%\n"
    }
   },
   "outputs": [
    {
     "data": {
      "image/png": "[encoded data removed]",
      "text/plain": [
       "<Figure size 432x288 with 1 Axes>"
      ]
     },
     "metadata": {},
     "output_type": "display_data"
    },
    {
     "name": "stdout",
     "output_type": "stream",
     "text": [
      "Movie      4265\n",
      "TV Show    1969\n",
      "Name: type, dtype: int64\n"
     ]
    }
   ],
   "source": [
    "# Data Visualization:Analysis of count of categorical variables.\n",
    "# https://www.kaggle.com/niharika41298/netflix-visualizations-recommendation-eda\n",
    "sns.set(style=\"darkgrid\")\n",
    "sns.countplot(y=\"type\",data=df, palette=\"Set2\")\n",
    "plt.show()\n",
    "print(df[\"type\"].value_counts())"
   ]
  },
  {
   "cell_type": "code",
   "execution_count": 11,
   "metadata": {
    "pycharm": {
     "name": "#%%\n"
    }
   },
   "outputs": [
    {
     "data": {
      "image/png": "[encoded data removed]",
      "text/plain": [
       "<Figure size 432x288 with 1 Axes>"
      ]
     },
     "metadata": {},
     "output_type": "display_data"
    }
   ],
   "source": [
    "sns.set(style=\"darkgrid\")\n",
    "sns.countplot(y=\"country\",data=df, palette=\"Set2\",order=df['country'].value_counts().index[0:10])\n",
    "plt.show()\n"
   ]
  },
  {
   "cell_type": "code",
   "execution_count": 12,
   "metadata": {
    "pycharm": {
     "name": "#%%\n"
    }
   },
   "outputs": [
    {
     "data": {
      "image/png": "[encoded data removed]",
      "text/plain": [
       "<Figure size 864x720 with 1 Axes>"
      ]
     },
     "metadata": {},
     "output_type": "display_data"
    }
   ],
   "source": [
    "plt.figure(figsize=(12,10))\n",
    "sns.set(style=\"darkgrid\")\n",
    "sns.countplot(y=\"release_year\", data=df, palette=\"Set2\",order=df['release_year'].value_counts().index[0:10])\n",
    "plt.show()\n"
   ]
  },
  {
   "cell_type": "code",
   "execution_count": 13,
   "metadata": {
    "pycharm": {
     "name": "#%%\n"
    }
   },
   "outputs": [
    {
     "data": {
      "image/png": "[encoded data removed]",
      "text/plain": [
       "<Figure size 864x720 with 1 Axes>"
      ]
     },
     "metadata": {},
     "output_type": "display_data"
    }
   ],
   "source": [
    "plt.figure(figsize=(12,10))\n",
    "sns.set(style=\"darkgrid\")\n",
    "sns.countplot(y=\"rating\", data=df, palette=\"Set2\", order=df['rating'].value_counts().index[0:10])\n",
    "plt.show()\n"
   ]
  },
  {
   "cell_type": "code",
   "execution_count": 14,
   "metadata": {
    "pycharm": {
     "name": "#%%\n"
    }
   },
   "outputs": [
    {
     "data": {
      "image/png": "[encoded data removed]",
      "text/plain": [
       "<Figure size 864x720 with 1 Axes>"
      ]
     },
     "metadata": {},
     "output_type": "display_data"
    }
   ],
   "source": [
    "# Check\n",
    "plt.figure(figsize=(12,10))\n",
    "sns.set(style=\"darkgrid\")\n",
    "sns.countplot(y=\"listed_in\", data=df, palette=\"Set2\", order=df['listed_in'].value_counts().index[0:10])\n",
    "plt.show()\n"
   ]
  },
  {
   "cell_type": "code",
   "execution_count": 15,
   "metadata": {
    "pycharm": {
     "name": "#%%\n"
    }
   },
   "outputs": [
    {
     "name": "stdout",
     "output_type": "stream",
     "text": [
      "    show_id     type                                    title  \\\n",
      "0  81145628    Movie  Norm of the North: King Sized Adventure   \n",
      "1  80117401    Movie               Jandino: Whatever it Takes   \n",
      "2  70234439  TV Show                       Transformers Prime   \n",
      "3  80058654  TV Show         Transformers: Robots in Disguise   \n",
      "4  80125979    Movie                             #realityhigh   \n",
      "\n",
      "                   director  \\\n",
      "0  Richard Finn, Tim Maltby   \n",
      "1                 Undefined   \n",
      "2                 Undefined   \n",
      "3                 Undefined   \n",
      "4          Fernando Lebrija   \n",
      "\n",
      "                                                cast  \\\n",
      "0  Alan Marriott, Andrew Toth, Brian Dobson, Cole...   \n",
      "1                                   Jandino Asporaat   \n",
      "2  Peter Cullen, Sumalee Montano, Frank Welker, J...   \n",
      "3  Will Friedle, Darren Criss, Constance Zimmer, ...   \n",
      "4  Nesta Cooper, Kate Walsh, John Michael Higgins...   \n",
      "\n",
      "                                    country  release_year    rating  \\\n",
      "0  United States, India, South Korea, China          2019     TV-PG   \n",
      "1                            United Kingdom          2016     TV-MA   \n",
      "2                             United States          2013  TV-Y7-FV   \n",
      "3                             United States          2016     TV-Y7   \n",
      "4                             United States          2017     TV-14   \n",
      "\n",
      "                            listed_in  \\\n",
      "0  Children & Family Movies, Comedies   \n",
      "1                     Stand-Up Comedy   \n",
      "2                            Kids' TV   \n",
      "3                            Kids' TV   \n",
      "4                            Comedies   \n",
      "\n",
      "                                         description  year_added  month_added  \\\n",
      "0  Before planning an awesome wedding for his gra...        2019            9   \n",
      "1  Jandino Asporaat riffs on the challenges of ra...        2016            9   \n",
      "2  With the help of three human allies, the Autob...        2018            9   \n",
      "3  When a prison ship crash unleashes hundreds of...        2018            9   \n",
      "4  When nerdy high schooler Dani finally attracts...        2017            9   \n",
      "\n",
      "  season_count time_in_minutes  \n",
      "0            0              90  \n",
      "1            0              94  \n",
      "2            1               0  \n",
      "3            1               0  \n",
      "4            0              99  \n"
     ]
    }
   ],
   "source": [
    "# https://www.kaggle.com/sahib12/netflix-consumption-analysis\n",
    "# https://www.kaggle.com/shivamb/netflix-shows-and-movies-exploratory-analysis\n",
    "# Cleaning data: Splitting the column data into multiple columns.\n",
    "# Dividing duration column into two different columns containing no of seasons and time in minutes.\n",
    "df['season_count'] = df.apply(lambda x : x['duration'].split(\" \")[0] if \"Season\" in x['duration'] else 0, axis = 1)\n",
    "df['time_in_minutes'] = df.apply(lambda x : x['duration'].split(\" \")[0] if \"Season\" not in x['duration'] else 0, axis = 1)\n",
    "df.drop(['duration'],axis=1,inplace=True)\n",
    "print(df.head())\n"
   ]
  },
  {
   "cell_type": "code",
   "execution_count": 16,
   "metadata": {
    "pycharm": {
     "name": "#%%\n"
    }
   },
   "outputs": [
    {
     "name": "stdout",
     "output_type": "stream",
     "text": [
      "316\n",
      "262\n",
      "54\n",
      "                                           type  \\\n",
      "title                                             \n",
      "13 Cameras                                Movie   \n",
      "13 Sins                                   Movie   \n",
      "14 Cameras                                Movie   \n",
      "1920                                      Movie   \n",
      "1st Summoning                             Movie   \n",
      "23:59                                     Movie   \n",
      "6-5=2                                     Movie   \n",
      "706                                       Movie   \n",
      "A Haunting at Silver Falls: The Return    Movie   \n",
      "A House of Blocks                       TV Show   \n",
      "\n",
      "                                                                         title  \\\n",
      "title                                                                            \n",
      "13 Cameras                                                          13 Cameras   \n",
      "13 Sins                                                                13 Sins   \n",
      "14 Cameras                                                          14 Cameras   \n",
      "1920                                                                      1920   \n",
      "1st Summoning                                                    1st Summoning   \n",
      "23:59                                                                    23:59   \n",
      "6-5=2                                                                    6-5=2   \n",
      "706                                                                        706   \n",
      "A Haunting at Silver Falls: The Return  A Haunting at Silver Falls: The Return   \n",
      "A House of Blocks                                            A House of Blocks   \n",
      "\n",
      "                                              country  \\\n",
      "title                                                   \n",
      "13 Cameras                              United States   \n",
      "13 Sins                                 United States   \n",
      "14 Cameras                              United States   \n",
      "1920                                            India   \n",
      "1st Summoning                           United States   \n",
      "23:59                                       Singapore   \n",
      "6-5=2                                           India   \n",
      "706                                             India   \n",
      "A Haunting at Silver Falls: The Return  United States   \n",
      "A House of Blocks                           Undefined   \n",
      "\n",
      "                                                                              description  \n",
      "title                                                                                      \n",
      "13 Cameras                              Young parents-to-be Claire and Ryan move into ...  \n",
      "13 Sins                                 A man agrees to appear on a game show with a $...  \n",
      "14 Cameras                              Upping the “13 Cameras” ante, this sequel find...  \n",
      "1920                                    An architect and his wife move into a castle t...  \n",
      "1st Summoning                           Student filmmakers uncover occult rituals tied...  \n",
      "23:59                                   When an army recruit is found dead, his fellow...  \n",
      "6-5=2                                   Six friends decide to undertake a grueling mou...  \n",
      "706                                     When a doctor goes missing, his psychiatrist w...  \n",
      "A Haunting at Silver Falls: The Return  When the ghost of her serial killer aunt seemi...  \n",
      "A House of Blocks                       Yijuan and her mentally ill sister Kaiqi strug...  \n"
     ]
    }
   ],
   "source": [
    "# Handling column containing multiple values seperated by comma.\n",
    "# https://www.kaggle.com/annadurbanova/netflix-movies-data-cleaning-with-pandas\n",
    "# How many Horror Movies and Tv Shows on Netflix?\n",
    "print(df[\"listed_in\"].str.contains(\"Horror\").sum()) # 316 horror Movies & TV -shows.\n",
    "\n",
    "# How many Horror Movies on Netflix?\n",
    "print(df[\"listed_in\"].str.contains(\"Horror\")[df[\"type\"]==\"Movie\"].sum())\n",
    "\n",
    "# How many Horror Tv Shows on Netflix?\n",
    "print((df[\"listed_in\"].str.contains(\"Horror\")[df[\"type\"]==\"TV Show\"]).sum())\n",
    "\n",
    "mask = df[\"listed_in\"].str.contains(\"Horror\")\n",
    "print(df[mask].groupby(\"title\")[['type', 'title', 'country','description']].sum().head(10))\n"
   ]
  },
  {
   "cell_type": "code",
   "execution_count": 17,
   "metadata": {
    "pycharm": {
     "name": "#%%\n"
    }
   },
   "outputs": [
    {
     "name": "stdout",
     "output_type": "stream",
     "text": [
      "723\n"
     ]
    }
   ],
   "source": [
    "# Handling column containing multiple values seperated by comma.\n",
    "# Number of movies or tv shows with genre \"Action & Adventure\"\n",
    "mask = df.listed_in.apply(lambda x: 'Action & Adventure' in x)\n",
    "df1 = df[mask]\n",
    "print(df1['show_id'].count())\n"
   ]
  },
  {
   "cell_type": "code",
   "execution_count": 18,
   "metadata": {
    "pycharm": {
     "name": "#%%\n"
    }
   },
   "outputs": [],
   "source": [
    "# # #pending\n",
    "# # Number of shows or movies produced in a each country.\n",
    "# df1 = pd.DataFrame(df.country.value_counts().reset_index().values,columns=[\"Country\", \"Count\"])\n",
    "# print(df1)\n",
    "#\n",
    "# # #pending\n",
    "# # # Number of shows or movies listed in each genre.\n",
    "# # df2 = pd.DataFrame(df.listed_in.value_counts().reset_index().values,columns=[\"Genre\",\"Count\"])\n",
    "# # print(df2)\n"
   ]
  },
  {
   "cell_type": "code",
   "execution_count": 19,
   "metadata": {
    "pycharm": {
     "name": "#%%\n"
    }
   },
   "outputs": [
    {
     "name": "stdout",
     "output_type": "stream",
     "text": [
      "     release_year     type  count\n",
      "0            1925  TV Show      1\n",
      "1            1942    Movie      2\n",
      "2            1943    Movie      3\n",
      "3            1944    Movie      3\n",
      "4            1945    Movie      3\n",
      "..            ...      ...    ...\n",
      "110          2018  TV Show    417\n",
      "111          2019    Movie    400\n",
      "112          2019  TV Show    443\n",
      "113          2020    Movie      6\n",
      "114          2020  TV Show     19\n",
      "\n",
      "[115 rows x 3 columns]\n"
     ]
    }
   ],
   "source": [
    "# Group by two columns.\n",
    "# https://stackoverflow.com/questions/48768650/groupby-sum-and-count-on-multiple-columns-in-python\n",
    "# No. of shows or movies released in each year.\n",
    "# n_data = df.groupby(['release_year','type'],as_index=False).show_id.count()\n",
    "n_data = df.groupby(['release_year','type'],as_index=False)['show_id'].count()\n",
    "n_data.columns = ['release_year','type','count']\n",
    "print(n_data)"
   ]
  },
  {
   "cell_type": "code",
   "execution_count": 20,
   "metadata": {
    "pycharm": {
     "name": "#%%\n"
    }
   },
   "outputs": [
    {
     "name": "stdout",
     "output_type": "stream",
     "text": [
      "                                                            show_id\n",
      "country                                            type            \n",
      "Argentina                                          Movie         26\n",
      "                                                   TV Show       12\n",
      "Argentina, Brazil, France, Poland, Germany, Den... Movie          1\n",
      "Argentina, Chile                                   Movie          1\n",
      "Argentina, Chile, Peru                             Movie          1\n",
      "...                                                             ...\n",
      "Uruguay, Spain, Mexico                             Movie          1\n",
      "Venezuela                                          Movie          1\n",
      "Venezuela, Colombia                                Movie          1\n",
      "Vietnam                                            Movie          4\n",
      "West Germany                                       Movie          1\n",
      "\n",
      "[637 rows x 1 columns]\n"
     ]
    }
   ],
   "source": [
    "# Group By two columns using pivot table.\n",
    "# No of shows or movies were released in each country.\n",
    "df1=pd.pivot_table(df, index=['country','type'],values=['show_id'],aggfunc=np.count_nonzero)\n",
    "print(df1)\n"
   ]
  },
  {
   "cell_type": "code",
   "execution_count": 21,
   "metadata": {
    "pycharm": {
     "name": "#%%\n"
    }
   },
   "outputs": [
    {
     "name": "stdout",
     "output_type": "stream",
     "text": [
      "                   show_id\n",
      "rating    type            \n",
      "G         Movie         36\n",
      "          TV Show        1\n",
      "NC-17     Movie          2\n",
      "NR        Movie        202\n",
      "          TV Show       16\n",
      "PG        Movie        183\n",
      "          TV Show        1\n",
      "PG-13     Movie        286\n",
      "R         Movie        506\n",
      "          TV Show        2\n",
      "TV-14     Movie       1038\n",
      "          TV Show      660\n",
      "TV-G      Movie         80\n",
      "          TV Show       69\n",
      "TV-MA     Movie       1348\n",
      "          TV Show      679\n",
      "TV-PG     Movie        432\n",
      "          TV Show      269\n",
      "TV-Y      Movie         41\n",
      "          TV Show      102\n",
      "TV-Y7     Movie         69\n",
      "          TV Show      100\n",
      "TV-Y7-FV  Movie         27\n",
      "          TV Show       68\n",
      "UR        Movie          7\n",
      "Undefined Movie          8\n",
      "          TV Show        2\n"
     ]
    }
   ],
   "source": [
    "# Group By two columns using pivot table.\n",
    "df2=pd.pivot_table(df, index=['rating','type'],values=['show_id'],aggfunc=np.count_nonzero)\n",
    "print(df2)\n"
   ]
  },
  {
   "cell_type": "code",
   "execution_count": 22,
   "metadata": {
    "pycharm": {
     "name": "#%%\n"
    }
   },
   "outputs": [
    {
     "name": "stdout",
     "output_type": "stream",
     "text": [
      "type       Movie  TV Show\n",
      "rating                   \n",
      "G             36        1\n",
      "NC-17          2        0\n",
      "NR           202       16\n",
      "PG           183        1\n",
      "PG-13        286        0\n",
      "R            506        2\n",
      "TV-14       1038      660\n",
      "TV-G          80       69\n",
      "TV-MA       1348      679\n",
      "TV-PG        432      269\n",
      "TV-Y          41      102\n",
      "TV-Y7         69      100\n",
      "TV-Y7-FV      27       68\n",
      "UR             7        0\n",
      "Undefined      8        2\n"
     ]
    }
   ],
   "source": [
    "# Group By two columns using cross tab.Gives count.\n",
    "df3 = pd.crosstab(df.rating, df.type)\n",
    "print(df3)\n"
   ]
  },
  {
   "cell_type": "code",
   "execution_count": 23,
   "metadata": {
    "pycharm": {
     "name": "#%%\n"
    }
   },
   "outputs": [
    {
     "name": "stdout",
     "output_type": "stream",
     "text": [
      "                                                  title  release_year\n",
      "3541                                            Messiah          2020\n",
      "3426                   Kipo and the Age of Wonderbeasts          2020\n",
      "1315                                 Maradona in Mexico          2020\n",
      "3325                                     Sex, Explained          2020\n",
      "3353                                               Ares          2020\n",
      "3354                                 Nailed It! Germany          2020\n",
      "3363                                  Handsome Siblings          2020\n",
      "3379         Killer Inside: The Mind of Aaron Hernandez          2020\n",
      "3573                                         The Circle          2020\n",
      "3220                                            Dracula          2020\n",
      "3436                         The Healing Powers of Dude          2020\n",
      "3562                                       Spinning Out          2020\n",
      "3464                                   AJ and the Queen          2020\n",
      "3466                       Jamtara - Sabka Number Ayega          2020\n",
      "3546  Nisman: The Prosecutor, the President, and the...          2020\n",
      "                                               title  release_year\n",
      "3518                                   Ghost Stories          2020\n",
      "3352                               A Fall from Grace          2020\n",
      "3180                                   Bulletproof 2          2020\n",
      "3427                      Leslie Jones: Time Machine          2020\n",
      "3195                           Live Twice, Love Once          2020\n",
      "3249                   All the Freckles in the World          2020\n",
      "1098                        Little Singham: Mahabali          2019\n",
      "1077                                       Atlantics          2019\n",
      "1079                                  I Lost My Body          2019\n",
      "4457  Ronny Chieng: Asian Comedian Destroys America!          2019\n",
      "1088                                    Holiday Rush          2019\n",
      "1097                             Evvarikee Cheppoddu          2019\n",
      "0            Norm of the North: King Sized Adventure          2019\n",
      "1057                                 The Zoya Factor          2019\n",
      "1100                                    The Irishman          2019\n"
     ]
    }
   ],
   "source": [
    "d1 = df[df[\"type\"] == \"TV Show\"]\n",
    "d2 = df[df[\"type\"] == \"Movie\"]\n",
    "\n",
    "# Recent TV Shows.\n",
    "tv_shows = d1.sort_values(\"release_year\", ascending = False)\n",
    "print(tv_shows[['title','release_year']][:15])\n",
    "\n",
    "# Recent Movies.\n",
    "movies = d2.sort_values(\"release_year\", ascending = False)\n",
    "print(movies[['title','release_year']][:15])\n"
   ]
  },
  {
   "cell_type": "code",
   "execution_count": 24,
   "metadata": {
    "pycharm": {
     "name": "#%%\n"
    }
   },
   "outputs": [
    {
     "name": "stdout",
     "output_type": "stream",
     "text": [
      "Top categories for TV content\n",
      "[('International TV Shows', 1001), ('TV Dramas', 599), ('TV Comedies', 436), ('Crime TV Shows', 363), (\"Kids' TV\", 328), ('Docuseries', 279), ('Romantic TV Shows', 278), ('British TV Shows', 210), ('Reality TV', 153), ('Korean TV Shows', 132), ('TV Action & Adventure', 126), ('Spanish-Language TV Shows', 117), ('Anime Series', 117), ('TV Mysteries', 69), ('TV Sci-Fi & Fantasy', 68), ('Science & Nature TV', 67), ('TV Horror', 54), ('TV Thrillers', 44), ('Teen TV Shows', 44), ('Stand-Up Comedy & Talk Shows', 42), ('Classic & Cult TV', 24), ('TV Shows', 10)]\n"
     ]
    }
   ],
   "source": [
    "from collections import Counter\n",
    "## Top categories for TV content.\n",
    "print(\"Top categories for TV content\")\n",
    "categories = \", \".join(d1['listed_in']).split(\", \")\n",
    "counter_list_tvshows = Counter(categories).most_common(50)\n",
    "print(counter_list_tvshows)"
   ]
  },
  {
   "cell_type": "code",
   "execution_count": 25,
   "metadata": {
    "pycharm": {
     "name": "#%%\n"
    }
   },
   "outputs": [
    {
     "name": "stdout",
     "output_type": "stream",
     "text": [
      "Top categories for Movies content\n",
      "[('International Movies', 1927), ('Dramas', 1623), ('Comedies', 1113), ('Documentaries', 668), ('Action & Adventure', 597), ('Independent Movies', 552), ('Thrillers', 392), ('Children & Family Movies', 378), ('Romantic Movies', 376), ('Stand-Up Comedy', 281), ('Horror Movies', 262), ('Music & Musicals', 243), ('Sci-Fi & Fantasy', 193), ('Sports Movies', 157), ('Classic Movies', 84), ('LGBTQ Movies', 60), ('Movies', 56), ('Cult Movies', 55), ('Faith & Spirituality', 47), ('Anime Features', 45)]\n"
     ]
    }
   ],
   "source": [
    "## Top categories for Movies content.\n",
    "print(\"Top categories for Movies content\")\n",
    "categories = \", \".join(d2['listed_in']).split(\", \")\n",
    "counter_list_movies = Counter(categories).most_common(50)\n",
    "print(counter_list_movies)\n"
   ]
  },
  {
   "cell_type": "code",
   "execution_count": 26,
   "metadata": {
    "pycharm": {
     "name": "#%%\n"
    }
   },
   "outputs": [
    {
     "name": "stdout",
     "output_type": "stream",
     "text": [
      "Top actors with TV content\n",
      "[('Undefined', 210), ('Takahiro Sakurai', 18), ('Yuki Kaji', 16), ('David Attenborough', 14), ('Daisuke Ono', 14), ('Ashleigh Ball', 12), ('Hiroshi Kamiya', 12), ('Tomokazu Sugita', 12), ('Jun Fukuyama', 12), ('Ai Kayano', 11), ('Tay Ping Hui', 11), ('Mamoru Miyano', 11), ('Yuichi Nakamura', 11), ('Junichi Suwabe', 10), ('Brian Drummond', 9), ('Vincent Tong', 9), ('Takehito Koyasu', 9), ('Saori Hayami', 9), ('Kana Hanazawa', 9), ('Kevin Michael Richardson', 8), ('Daisuke Namikawa', 8), ('Andrea Libman', 8), ('Kathleen Barr', 8), ('Katsuyuki Konishi', 8), ('Sayaka Ohara', 8), ('M・A・O', 8), ('Yoshimasa Hosoya', 8), ('Kenjiro Tsuda', 8), ('Eri Kitamura', 8), ('Satoshi Hino', 8), ('Johnny Yong Bosch', 8), ('Kari Wahlgren', 7), ('Tara Strong', 7), ('Haruka Tomatsu', 7), ('Tetsuya Kakihara', 7), ('Alessandro Juliani', 7), ('James Wen', 7), ('Yoko Hikasa', 7), ('Frederick Lee', 7), ('Sam Vincent', 7), ('Zhang Zhenhuan', 7), ('Nobunaga Shimazaki', 7), ('Jeanette Aw', 7), ('Natsuki Hanae', 7), ('Miyuki Sawashiro', 7), ('Maaya Sakamoto', 7), ('Keiji Fujiwara', 7), ('Hiroki Yasumoto', 7), ('Bryce Papenbrook', 7), ('Grey Griffin', 7)]\n"
     ]
    }
   ],
   "source": [
    "# Top actors with most TV content.\n",
    "print(\"Top actors with TV content\")\n",
    "categories = \", \".join(d1['cast']).split(\", \")\n",
    "counter_list_cast = Counter(categories).most_common(50)\n",
    "print(counter_list_cast)\n"
   ]
  },
  {
   "cell_type": "code",
   "execution_count": 27,
   "metadata": {
    "pycharm": {
     "name": "#%%\n"
    }
   },
   "outputs": [
    {
     "name": "stdout",
     "output_type": "stream",
     "text": [
      "Top directors with  Movie content\n",
      "[('Undefined', 210), ('Takahiro Sakurai', 18), ('Yuki Kaji', 16), ('David Attenborough', 14), ('Daisuke Ono', 14), ('Ashleigh Ball', 12), ('Hiroshi Kamiya', 12), ('Tomokazu Sugita', 12), ('Jun Fukuyama', 12), ('Ai Kayano', 11), ('Tay Ping Hui', 11), ('Mamoru Miyano', 11), ('Yuichi Nakamura', 11), ('Junichi Suwabe', 10), ('Brian Drummond', 9), ('Vincent Tong', 9), ('Takehito Koyasu', 9), ('Saori Hayami', 9), ('Kana Hanazawa', 9), ('Kevin Michael Richardson', 8), ('Daisuke Namikawa', 8), ('Andrea Libman', 8), ('Kathleen Barr', 8), ('Katsuyuki Konishi', 8), ('Sayaka Ohara', 8), ('M・A・O', 8), ('Yoshimasa Hosoya', 8), ('Kenjiro Tsuda', 8), ('Eri Kitamura', 8), ('Satoshi Hino', 8), ('Johnny Yong Bosch', 8), ('Kari Wahlgren', 7), ('Tara Strong', 7), ('Haruka Tomatsu', 7), ('Tetsuya Kakihara', 7), ('Alessandro Juliani', 7), ('James Wen', 7), ('Yoko Hikasa', 7), ('Frederick Lee', 7), ('Sam Vincent', 7), ('Zhang Zhenhuan', 7), ('Nobunaga Shimazaki', 7), ('Jeanette Aw', 7), ('Natsuki Hanae', 7), ('Miyuki Sawashiro', 7), ('Maaya Sakamoto', 7), ('Keiji Fujiwara', 7), ('Hiroki Yasumoto', 7), ('Bryce Papenbrook', 7), ('Grey Griffin', 7)]\n"
     ]
    }
   ],
   "source": [
    "# Top directors with most Movie content.\n",
    "print(\"Top directors with  Movie content\")\n",
    "categories = \", \".join(d2['director']).split(\", \")\n",
    "counter_list_directors = Counter(categories).most_common(50)\n",
    "print(counter_list_cast)\n"
   ]
  },
  {
   "cell_type": "code",
   "execution_count": 28,
   "metadata": {
    "pycharm": {
     "name": "#%%\n"
    }
   },
   "outputs": [
    {
     "name": "stdout",
     "output_type": "stream",
     "text": [
      "Top directors in Country 'India' with 'Movie' content\n",
      "[('Undefined', 10), ('David Dhawan', 8), ('S.S. Rajamouli', 7), ('Dibakar Banerjee', 7), ('Ram Gopal Varma', 6), ('Zoya Akhtar', 6), ('Rajiv Mehra', 5), ('Umesh Mehra', 5), ('Priyadarshan', 5), ('Anees Bazmee', 5)]\n"
     ]
    }
   ],
   "source": [
    "# Top directors in Country \"India\" with \"Movie\" content.\n",
    "print(\"Top directors in Country 'India' with 'Movie' content\")\n",
    "d3 = d2[d2[\"country\"] == \"India\"]\n",
    "categories = \", \".join(d3['director']).split(\", \")\n",
    "counter_list_directors_india = Counter(categories).most_common(10)\n",
    "print(counter_list_directors_india)"
   ]
  },
  {
   "cell_type": "code",
   "execution_count": 29,
   "metadata": {
    "pycharm": {
     "name": "#%%\n"
    }
   },
   "outputs": [
    {
     "name": "stdout",
     "output_type": "stream",
     "text": [
      "                                                  title  release_year  \\\n",
      "13             Krish Trish and Baltiboy: Battle of Wits          2013   \n",
      "14       Krish Trish and Baltiboy: Best Friends Forever          2016   \n",
      "15            Krish Trish and Baltiboy: Comics of India          2012   \n",
      "16    Krish Trish and Baltiboy: Oversmartness Never ...          2017   \n",
      "18         Krish Trish and Baltiboy: The Greatest Trick          2013   \n",
      "1244          Krish Trish and Baltiboy: Face Your Fears          2017   \n",
      "\n",
      "                     listed_in  \n",
      "13    Children & Family Movies  \n",
      "14    Children & Family Movies  \n",
      "15    Children & Family Movies  \n",
      "16    Children & Family Movies  \n",
      "18    Children & Family Movies  \n",
      "1244  Children & Family Movies  \n"
     ]
    }
   ],
   "source": [
    "# One filter.\n",
    "# Content directed by director \"Tilak Shetty\" on Netflix.\n",
    "tag = \"Tilak Shetty\"\n",
    "df[\"relevant\"] = df['director'].apply(lambda x : 1 if tag.lower() in x.lower() else 0)\n",
    "small = df[df[\"relevant\"] == 1]\n",
    "print(small[['title','release_year','listed_in']])\n"
   ]
  },
  {
   "cell_type": "code",
   "execution_count": 30,
   "metadata": {
    "pycharm": {
     "name": "#%%\n"
    }
   },
   "outputs": [
    {
     "data": {
      "text/html": [
       "<div>\n",
       "<style scoped>\n",
       "    .dataframe tbody tr th:only-of-type {\n",
       "        vertical-align: middle;\n",
       "    }\n",
       "\n",
       "    .dataframe tbody tr th {\n",
       "        vertical-align: top;\n",
       "    }\n",
       "\n",
       "    .dataframe thead th {\n",
       "        text-align: right;\n",
       "    }\n",
       "</style>\n",
       "<table border=\"1\" class=\"dataframe\">\n",
       "  <thead>\n",
       "    <tr style=\"text-align: right;\">\n",
       "      <th></th>\n",
       "      <th>title</th>\n",
       "      <th>country</th>\n",
       "      <th>release_year</th>\n",
       "    </tr>\n",
       "  </thead>\n",
       "  <tbody>\n",
       "    <tr>\n",
       "      <th>53</th>\n",
       "      <td>Marc Maron: Too Real</td>\n",
       "      <td>United States</td>\n",
       "      <td>2017</td>\n",
       "    </tr>\n",
       "    <tr>\n",
       "      <th>113</th>\n",
       "      <td>Def Comedy Jam 25</td>\n",
       "      <td>United States</td>\n",
       "      <td>2017</td>\n",
       "    </tr>\n",
       "    <tr>\n",
       "      <th>126</th>\n",
       "      <td>Jeff Dunham: Beside Himself</td>\n",
       "      <td>United States</td>\n",
       "      <td>2019</td>\n",
       "    </tr>\n",
       "    <tr>\n",
       "      <th>134</th>\n",
       "      <td>Iliza Shlesinger: Confirmed Kills</td>\n",
       "      <td>United States</td>\n",
       "      <td>2016</td>\n",
       "    </tr>\n",
       "    <tr>\n",
       "      <th>181</th>\n",
       "      <td>Jerry Before Seinfeld</td>\n",
       "      <td>United States</td>\n",
       "      <td>2017</td>\n",
       "    </tr>\n",
       "    <tr>\n",
       "      <th>202</th>\n",
       "      <td>Sebastian Maniscalco: What's Wrong with People?</td>\n",
       "      <td>United States</td>\n",
       "      <td>2012</td>\n",
       "    </tr>\n",
       "    <tr>\n",
       "      <th>210</th>\n",
       "      <td>Cedric the Entertainer: Live from the Ville</td>\n",
       "      <td>United States</td>\n",
       "      <td>2016</td>\n",
       "    </tr>\n",
       "    <tr>\n",
       "      <th>260</th>\n",
       "      <td>Norm Macdonald Has a Show</td>\n",
       "      <td>United States</td>\n",
       "      <td>2018</td>\n",
       "    </tr>\n",
       "    <tr>\n",
       "      <th>288</th>\n",
       "      <td>Jeff Dunham: Relative Disaster</td>\n",
       "      <td>United States</td>\n",
       "      <td>2017</td>\n",
       "    </tr>\n",
       "    <tr>\n",
       "      <th>289</th>\n",
       "      <td>Daniel Sloss: Live Shows</td>\n",
       "      <td>United States</td>\n",
       "      <td>2018</td>\n",
       "    </tr>\n",
       "  </tbody>\n",
       "</table>\n",
       "</div>"
      ],
      "text/plain": [
       "                                               title        country  \\\n",
       "53                              Marc Maron: Too Real  United States   \n",
       "113                                Def Comedy Jam 25  United States   \n",
       "126                      Jeff Dunham: Beside Himself  United States   \n",
       "134                Iliza Shlesinger: Confirmed Kills  United States   \n",
       "181                            Jerry Before Seinfeld  United States   \n",
       "202  Sebastian Maniscalco: What's Wrong with People?  United States   \n",
       "210      Cedric the Entertainer: Live from the Ville  United States   \n",
       "260                        Norm Macdonald Has a Show  United States   \n",
       "288                   Jeff Dunham: Relative Disaster  United States   \n",
       "289                         Daniel Sloss: Live Shows  United States   \n",
       "\n",
       "     release_year  \n",
       "53           2017  \n",
       "113          2017  \n",
       "126          2019  \n",
       "134          2016  \n",
       "181          2017  \n",
       "202          2012  \n",
       "210          2016  \n",
       "260          2018  \n",
       "288          2017  \n",
       "289          2018  "
      ]
     },
     "execution_count": 30,
     "metadata": {},
     "output_type": "execute_result"
    }
   ],
   "source": [
    " # Two filters.\n",
    "# Content listed in \"Stand Up Comedy\" in Country \"United States\"\n",
    "tag = \"Stand-Up Comedy\"\n",
    "df[\"relevant\"] = df['listed_in'].fillna(\"\").apply(lambda x : 1 if tag.lower() in x.lower() else 0)\n",
    "small = df[df[\"relevant\"] == 1]\n",
    "small[small[\"country\"] == \"United States\"][[\"title\", \"country\",\"release_year\"]].head(10)"
   ]
  },
  {
   "cell_type": "code",
   "execution_count": 31,
   "metadata": {
    "pycharm": {
     "name": "#%%\n"
    }
   },
   "outputs": [],
   "source": [
    "# # Pivoting table in order to find out the number of shows or tv shows were released in each year seperately.\n",
    "# n_data_pivot = n_data.pivot(index='release_year', columns='type', values='count').reset_index()\n",
    "# n_data_pivot.fillna(0,inplace = True)\n",
    "# n_data_pivot.head()\n"
   ]
  },
  {
   "cell_type": "code",
   "execution_count": 32,
   "metadata": {
    "pycharm": {
     "name": "#%%\n"
    }
   },
   "outputs": [],
   "source": [
    "# # Number of shows or movies released in a each year.\n",
    "# date = pd.DataFrame(df.release_year.value_counts().reset_index().values,columns=[\"Year\", \"Count\"])\n",
    "# date.head()"
   ]
  }
 ],
 "metadata": {
  "kernelspec": {
   "display_name": "Python 3",
   "language": "python",
   "name": "python3"
  },
  "language_info": {
   "codemirror_mode": {
    "name": "ipython",
    "version": 3
   },
   "file_extension": ".py",
   "mimetype": "text/x-python",
   "name": "python",
   "nbconvert_exporter": "python",
   "pygments_lexer": "ipython3",
   "version": "3.8.6"
  }
 },
 "nbformat": 4,
 "nbformat_minor": 1
}
