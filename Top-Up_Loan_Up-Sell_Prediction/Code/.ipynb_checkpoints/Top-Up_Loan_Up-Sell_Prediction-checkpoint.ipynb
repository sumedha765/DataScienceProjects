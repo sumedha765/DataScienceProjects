{
 "cells": [
  {
   "cell_type": "code",
   "execution_count": 1,
   "metadata": {
    "pycharm": {
     "is_executing": true
    }
   },
   "outputs": [],
   "source": [
    "from sklearn.model_selection import StratifiedKFold, train_test_split\n",
    "import pandas as pd\n",
    "from sklearn.svm import LinearSVC\n",
    "pd.set_option('display.max_columns', 100)\n",
    "import os\n",
    "import seaborn as sns\n",
    "sns.set()\n",
    "import numpy as np\n",
    "from sklearn.ensemble import VotingClassifier, RandomForestClassifier, GradientBoostingClassifier\n",
    "from sklearn.naive_bayes import GaussianNB, MultinomialNB\n",
    "from lightgbm import LGBMClassifier\n",
    "from sklearn.metrics import roc_auc_score\n",
    "from sklearn.preprocessing import LabelEncoder, MinMaxScaler\n",
    "import warnings\n",
    "warnings.filterwarnings('ignore')\n",
    "import matplotlib.pyplot as plt\n",
    "from sklearn.ensemble import AdaBoostClassifier, GradientBoostingClassifier\n",
    "plt.rcParams['figure.figsize'] = 8, 5\n",
    "plt.style.use(\"fivethirtyeight\")\n",
    "# for dirname, _, filenames in os.walk('Top-Up_Loan_Up-Sell_Prediction'):\n",
    "#     for filename in filenames:\n",
    "#         print(os.path.join(dirname, filename))\n",
    "from sklearn.preprocessing import LabelEncoder, StandardScaler"
   ]
  },
  {
   "cell_type": "code",
   "execution_count": 2,
   "metadata": {
    "pycharm": {
     "is_executing": true
    }
   },
   "outputs": [],
   "source": [
    "train_Data = pd.read_csv('../Data/train_Data.csv')\n",
    "train_bureau = pd.read_csv('../Data/train_bureau.csv')\n",
    "data_dict = pd.read_csv('../Data/data_dict.csv')"
   ]
  },
  {
   "cell_type": "code",
   "execution_count": 3,
   "metadata": {
    "pycharm": {
     "is_executing": true
    }
   },
   "outputs": [],
   "source": [
    "test_Data = pd.read_csv('../Data/test_Data.csv')\n",
    "test_bureau = pd.read_csv('../Data/test_bureau.csv')"
   ]
  },
  {
   "cell_type": "code",
   "execution_count": 4,
   "metadata": {
    "pycharm": {
     "is_executing": true
    }
   },
   "outputs": [
    {
     "name": "stdout",
     "output_type": "stream",
     "text": [
      "Check Training Data Shape\n",
      "(128655, 26)\n",
      "(560844, 25)\n"
     ]
    }
   ],
   "source": [
    "print(\"Check Training Data Shape\")\n",
    "print(train_Data.shape)\n",
    "print(train_bureau.shape)"
   ]
  },
  {
   "cell_type": "code",
   "execution_count": 5,
   "metadata": {
    "pycharm": {
     "is_executing": true
    }
   },
   "outputs": [
    {
     "name": "stdout",
     "output_type": "stream",
     "text": [
      "Check Testing Data Shape\n",
      "(14745, 25)\n",
      "(64019, 25)\n"
     ]
    }
   ],
   "source": [
    "print(\"Check Testing Data Shape\")\n",
    "print(test_Data.shape)\n",
    "print(test_bureau.shape)"
   ]
  },
  {
   "cell_type": "code",
   "execution_count": 6,
   "metadata": {
    "pycharm": {
     "is_executing": true
    }
   },
   "outputs": [
    {
     "name": "stdout",
     "output_type": "stream",
     "text": [
      "Merge both training datasets\n"
     ]
    }
   ],
   "source": [
    "print(\"Merge both training datasets\")\n",
    "train_df = pd.merge(train_bureau,train_Data,on='ID',how=\"left\")"
   ]
  },
  {
   "cell_type": "code",
   "execution_count": 7,
   "metadata": {
    "pycharm": {
     "is_executing": true
    }
   },
   "outputs": [
    {
     "name": "stdout",
     "output_type": "stream",
     "text": [
      "Check shape after merging both datasets\n",
      "(560844, 50)\n"
     ]
    }
   ],
   "source": [
    "print(\"Check shape after merging both datasets\")\n",
    "print(train_df.shape)"
   ]
  },
  {
   "cell_type": "code",
   "execution_count": 8,
   "metadata": {
    "pycharm": {
     "is_executing": true
    }
   },
   "outputs": [
    {
     "name": "stdout",
     "output_type": "stream",
     "text": [
      "Check shape after dropping duplicate values.\n",
      "(556980, 50)\n"
     ]
    }
   ],
   "source": [
    "train_df.drop_duplicates(inplace=True)\n",
    "print(\"Check shape after dropping duplicate values.\")\n",
    "print(train_df.shape)"
   ]
  },
  {
   "cell_type": "code",
   "execution_count": 9,
   "metadata": {
    "pycharm": {
     "is_executing": true
    }
   },
   "outputs": [
    {
     "name": "stdout",
     "output_type": "stream",
     "text": [
      "Check null values\n",
      "ID                                0\n",
      "SELF-INDICATOR                    0\n",
      "MATCH-TYPE                        0\n",
      "ACCT-TYPE                         0\n",
      "CONTRIBUTOR-TYPE                  0\n",
      "DATE-REPORTED                  3677\n",
      "OWNERSHIP-IND                     0\n",
      "ACCOUNT-STATUS                    0\n",
      "DISBURSED-DT                  31884\n",
      "CLOSE-DT                     248648\n",
      "LAST-PAYMENT-DATE            318244\n",
      "CREDIT-LIMIT/SANC AMT        541877\n",
      "DISBURSED-AMT/HIGH CREDIT         0\n",
      "INSTALLMENT-AMT              418877\n",
      "CURRENT-BAL                     232\n",
      "INSTALLMENT-FREQUENCY        423491\n",
      "OVERDUE-AMT                  118045\n",
      "WRITE-OFF-AMT                 19075\n",
      "ASSET_CLASS                  299466\n",
      "REPORTED DATE - HIST          19075\n",
      "DPD - HIST                    19529\n",
      "CUR BAL - HIST                19075\n",
      "AMT OVERDUE - HIST            19075\n",
      "AMT PAID - HIST               20242\n",
      "TENURE                       366621\n",
      "Frequency                         0\n",
      "InstlmentMode                     0\n",
      "LoanStatus                        0\n",
      "PaymentMode                       0\n",
      "BranchID                          0\n",
      "Area                          45147\n",
      "Tenure                            0\n",
      "AssetCost                         0\n",
      "AmountFinance                     0\n",
      "DisbursalAmount                   0\n",
      "EMI                               0\n",
      "DisbursalDate                     0\n",
      "MaturityDAte                      2\n",
      "AuthDate                          0\n",
      "AssetID                           0\n",
      "ManufacturerID                    0\n",
      "SupplierID                        0\n",
      "LTV                               0\n",
      "SEX                            1604\n",
      "AGE                            1604\n",
      "MonthlyIncome                  1941\n",
      "City                          47262\n",
      "State                             0\n",
      "ZiPCODE                        1647\n",
      "Top-up Month                      0\n",
      "dtype: int64\n"
     ]
    }
   ],
   "source": [
    "print(\"Check null values\")\n",
    "print(train_df.isnull().sum())"
   ]
  },
  {
   "cell_type": "code",
   "execution_count": 10,
   "metadata": {
    "pycharm": {
     "is_executing": true
    }
   },
   "outputs": [
    {
     "name": "stdout",
     "output_type": "stream",
     "text": [
      "Check  percentage of null values in each column\n",
      "ID                           0.000000\n",
      "SELF-INDICATOR               0.000000\n",
      "MATCH-TYPE                   0.000000\n",
      "ACCT-TYPE                    0.000000\n",
      "CONTRIBUTOR-TYPE             0.000000\n",
      "DATE-REPORTED                0.006602\n",
      "OWNERSHIP-IND                0.000000\n",
      "ACCOUNT-STATUS               0.000000\n",
      "DISBURSED-DT                 0.057244\n",
      "CLOSE-DT                     0.446422\n",
      "LAST-PAYMENT-DATE            0.571374\n",
      "CREDIT-LIMIT/SANC AMT        0.972884\n",
      "DISBURSED-AMT/HIGH CREDIT    0.000000\n",
      "INSTALLMENT-AMT              0.752050\n",
      "CURRENT-BAL                  0.000417\n",
      "INSTALLMENT-FREQUENCY        0.760334\n",
      "OVERDUE-AMT                  0.211938\n",
      "WRITE-OFF-AMT                0.034247\n",
      "ASSET_CLASS                  0.537660\n",
      "REPORTED DATE - HIST         0.034247\n",
      "DPD - HIST                   0.035062\n",
      "CUR BAL - HIST               0.034247\n",
      "AMT OVERDUE - HIST           0.034247\n",
      "AMT PAID - HIST              0.036342\n",
      "TENURE                       0.658230\n",
      "Frequency                    0.000000\n",
      "InstlmentMode                0.000000\n",
      "LoanStatus                   0.000000\n",
      "PaymentMode                  0.000000\n",
      "BranchID                     0.000000\n",
      "Area                         0.081057\n",
      "Tenure                       0.000000\n",
      "AssetCost                    0.000000\n",
      "AmountFinance                0.000000\n",
      "DisbursalAmount              0.000000\n",
      "EMI                          0.000000\n",
      "DisbursalDate                0.000000\n",
      "MaturityDAte                 0.000004\n",
      "AuthDate                     0.000000\n",
      "AssetID                      0.000000\n",
      "ManufacturerID               0.000000\n",
      "SupplierID                   0.000000\n",
      "LTV                          0.000000\n",
      "SEX                          0.002880\n",
      "AGE                          0.002880\n",
      "MonthlyIncome                0.003485\n",
      "City                         0.084854\n",
      "State                        0.000000\n",
      "ZiPCODE                      0.002957\n",
      "Top-up Month                 0.000000\n",
      "dtype: float64\n"
     ]
    }
   ],
   "source": [
    "print(\"Check  percentage of null values in each column\")\n",
    "print(train_df.isnull().sum()/train_df.shape[0])"
   ]
  },
  {
   "cell_type": "code",
   "execution_count": 11,
   "metadata": {
    "pycharm": {
     "is_executing": true
    }
   },
   "outputs": [
    {
     "name": "stdout",
     "output_type": "stream",
     "text": [
      "Keep columns with missing values less than 50%\n"
     ]
    }
   ],
   "source": [
    "print(\"Keep columns with missing values less than 50%\")\n",
    "train_df = train_df[train_df.columns[train_df.isnull().mean() < 0.5]]"
   ]
  },
  {
   "cell_type": "code",
   "execution_count": 12,
   "metadata": {
    "pycharm": {
     "is_executing": true
    }
   },
   "outputs": [
    {
     "name": "stdout",
     "output_type": "stream",
     "text": [
      "Check columns after removing columns with more than 50% of missing values\n",
      "(556980, 44)\n",
      "ID                                0\n",
      "SELF-INDICATOR                    0\n",
      "MATCH-TYPE                        0\n",
      "ACCT-TYPE                         0\n",
      "CONTRIBUTOR-TYPE                  0\n",
      "DATE-REPORTED                  3677\n",
      "OWNERSHIP-IND                     0\n",
      "ACCOUNT-STATUS                    0\n",
      "DISBURSED-DT                  31884\n",
      "CLOSE-DT                     248648\n",
      "DISBURSED-AMT/HIGH CREDIT         0\n",
      "CURRENT-BAL                     232\n",
      "OVERDUE-AMT                  118045\n",
      "WRITE-OFF-AMT                 19075\n",
      "REPORTED DATE - HIST          19075\n",
      "DPD - HIST                    19529\n",
      "CUR BAL - HIST                19075\n",
      "AMT OVERDUE - HIST            19075\n",
      "AMT PAID - HIST               20242\n",
      "Frequency                         0\n",
      "InstlmentMode                     0\n",
      "LoanStatus                        0\n",
      "PaymentMode                       0\n",
      "BranchID                          0\n",
      "Area                          45147\n",
      "Tenure                            0\n",
      "AssetCost                         0\n",
      "AmountFinance                     0\n",
      "DisbursalAmount                   0\n",
      "EMI                               0\n",
      "DisbursalDate                     0\n",
      "MaturityDAte                      2\n",
      "AuthDate                          0\n",
      "AssetID                           0\n",
      "ManufacturerID                    0\n",
      "SupplierID                        0\n",
      "LTV                               0\n",
      "SEX                            1604\n",
      "AGE                            1604\n",
      "MonthlyIncome                  1941\n",
      "City                          47262\n",
      "State                             0\n",
      "ZiPCODE                        1647\n",
      "Top-up Month                      0\n",
      "dtype: int64\n"
     ]
    }
   ],
   "source": [
    "print(\"Check columns after removing columns with more than 50% of missing values\")\n",
    "print(train_df.shape)\n",
    "\n",
    "print(train_df.isnull().sum())"
   ]
  },
  {
   "cell_type": "code",
   "execution_count": 13,
   "metadata": {
    "pycharm": {
     "is_executing": true
    }
   },
   "outputs": [
    {
     "name": "stdout",
     "output_type": "stream",
     "text": [
      "ID                             int64\n",
      "SELF-INDICATOR                  bool\n",
      "MATCH-TYPE                    object\n",
      "ACCT-TYPE                     object\n",
      "CONTRIBUTOR-TYPE              object\n",
      "DATE-REPORTED                 object\n",
      "OWNERSHIP-IND                 object\n",
      "ACCOUNT-STATUS                object\n",
      "DISBURSED-DT                  object\n",
      "CLOSE-DT                      object\n",
      "DISBURSED-AMT/HIGH CREDIT     object\n",
      "CURRENT-BAL                   object\n",
      "OVERDUE-AMT                   object\n",
      "WRITE-OFF-AMT                float64\n",
      "REPORTED DATE - HIST          object\n",
      "DPD - HIST                    object\n",
      "CUR BAL - HIST                object\n",
      "AMT OVERDUE - HIST            object\n",
      "AMT PAID - HIST               object\n",
      "Frequency                     object\n",
      "InstlmentMode                 object\n",
      "LoanStatus                    object\n",
      "PaymentMode                   object\n",
      "BranchID                       int64\n",
      "Area                          object\n",
      "Tenure                         int64\n",
      "AssetCost                      int64\n",
      "AmountFinance                float64\n",
      "DisbursalAmount              float64\n",
      "EMI                          float64\n",
      "DisbursalDate                 object\n",
      "MaturityDAte                  object\n",
      "AuthDate                      object\n",
      "AssetID                        int64\n",
      "ManufacturerID                 int64\n",
      "SupplierID                     int64\n",
      "LTV                          float64\n",
      "SEX                           object\n",
      "AGE                          float64\n",
      "MonthlyIncome                float64\n",
      "City                          object\n",
      "State                         object\n",
      "ZiPCODE                      float64\n",
      "Top-up Month                  object\n",
      "dtype: object\n"
     ]
    }
   ],
   "source": [
    "print(train_df.dtypes)"
   ]
  },
  {
   "cell_type": "code",
   "execution_count": 14,
   "metadata": {
    "pycharm": {
     "is_executing": true
    }
   },
   "outputs": [
    {
     "name": "stdout",
     "output_type": "stream",
     "text": [
      "Categorical variables\n",
      "Number of categorical columns 28\n",
      "Columns are \n",
      " Index(['MATCH-TYPE', 'ACCT-TYPE', 'CONTRIBUTOR-TYPE', 'DATE-REPORTED',\n",
      "       'OWNERSHIP-IND', 'ACCOUNT-STATUS', 'DISBURSED-DT', 'CLOSE-DT',\n",
      "       'DISBURSED-AMT/HIGH CREDIT', 'CURRENT-BAL', 'OVERDUE-AMT',\n",
      "       'REPORTED DATE - HIST', 'DPD - HIST', 'CUR BAL - HIST',\n",
      "       'AMT OVERDUE - HIST', 'AMT PAID - HIST', 'Frequency', 'InstlmentMode',\n",
      "       'LoanStatus', 'PaymentMode', 'Area', 'DisbursalDate', 'MaturityDAte',\n",
      "       'AuthDate', 'SEX', 'City', 'State', 'Top-up Month'],\n",
      "      dtype='object')\n"
     ]
    }
   ],
   "source": [
    "print(\"Categorical variables\")\n",
    "categorical = train_df.select_dtypes(include=['object'])\n",
    "print(\"Number of categorical columns\",len(categorical.columns))\n",
    "print(\"Columns are \\n\",categorical.columns)\n",
    "\n",
    "for col in categorical:\n",
    "    train_df[col] = train_df[col].fillna(train_df[col].mode()[0])\n"
   ]
  },
  {
   "cell_type": "code",
   "execution_count": 15,
   "metadata": {
    "pycharm": {
     "is_executing": true
    }
   },
   "outputs": [
    {
     "name": "stdout",
     "output_type": "stream",
     "text": [
      "Numerical variables\n",
      "Number of numeric columns 15\n",
      "Columns are \n",
      " Index(['ID', 'WRITE-OFF-AMT', 'BranchID', 'Tenure', 'AssetCost',\n",
      "       'AmountFinance', 'DisbursalAmount', 'EMI', 'AssetID', 'ManufacturerID',\n",
      "       'SupplierID', 'LTV', 'AGE', 'MonthlyIncome', 'ZiPCODE'],\n",
      "      dtype='object')\n"
     ]
    }
   ],
   "source": [
    "print(\"Numerical variables\")\n",
    "numerical = train_df.select_dtypes(include=['int64','float64'])\n",
    "print(\"Number of numeric columns\", len(numerical.columns))\n",
    "print(\"Columns are \\n\",numerical.columns)\n",
    "\n",
    "for col in numerical:\n",
    "    train_df[col] = train_df[col].fillna((train_df[col].mean()))\n"
   ]
  },
  {
   "cell_type": "code",
   "execution_count": 16,
   "metadata": {
    "pycharm": {
     "is_executing": true
    }
   },
   "outputs": [
    {
     "name": "stdout",
     "output_type": "stream",
     "text": [
      "Boolean variables\n",
      "Number of boolean columns 1\n",
      "Columns are \n",
      " Index(['SELF-INDICATOR'], dtype='object')\n"
     ]
    }
   ],
   "source": [
    "print(\"Boolean variables\")\n",
    "boolean = train_df.select_dtypes(include=['bool'])\n",
    "print(\"Number of boolean columns\", len(boolean.columns))\n",
    "print(\"Columns are \\n\",boolean.columns)\n",
    "\n",
    "for col in boolean:\n",
    "    train_df[col] = train_df[col].fillna(train_df[col].mode()[0])\n"
   ]
  },
  {
   "cell_type": "code",
   "execution_count": 17,
   "metadata": {
    "pycharm": {
     "is_executing": true
    }
   },
   "outputs": [
    {
     "name": "stdout",
     "output_type": "stream",
     "text": [
      "Time Stamp based variables\n",
      "Number of time based columns 0\n",
      "Columns are \n",
      " Index([], dtype='object')\n"
     ]
    }
   ],
   "source": [
    "print(\"Time Stamp based variables\")\n",
    "date_time = train_df.select_dtypes(include=['datetime64[ns]'])\n",
    "print(\"Number of time based columns\", len(date_time.columns))\n",
    "print(\"Columns are \\n\",date_time.columns)\n",
    "for col in date_time:\n",
    "    train_df[col] = train_df[col].fillna(train_df[col].mode()[0])\n",
    "\n"
   ]
  },
  {
   "cell_type": "code",
   "execution_count": 18,
   "metadata": {
    "pycharm": {
     "is_executing": true
    }
   },
   "outputs": [
    {
     "name": "stdout",
     "output_type": "stream",
     "text": [
      "ID                           0\n",
      "SELF-INDICATOR               0\n",
      "MATCH-TYPE                   0\n",
      "ACCT-TYPE                    0\n",
      "CONTRIBUTOR-TYPE             0\n",
      "DATE-REPORTED                0\n",
      "OWNERSHIP-IND                0\n",
      "ACCOUNT-STATUS               0\n",
      "DISBURSED-DT                 0\n",
      "CLOSE-DT                     0\n",
      "DISBURSED-AMT/HIGH CREDIT    0\n",
      "CURRENT-BAL                  0\n",
      "OVERDUE-AMT                  0\n",
      "WRITE-OFF-AMT                0\n",
      "REPORTED DATE - HIST         0\n",
      "DPD - HIST                   0\n",
      "CUR BAL - HIST               0\n",
      "AMT OVERDUE - HIST           0\n",
      "AMT PAID - HIST              0\n",
      "Frequency                    0\n",
      "InstlmentMode                0\n",
      "LoanStatus                   0\n",
      "PaymentMode                  0\n",
      "BranchID                     0\n",
      "Area                         0\n",
      "Tenure                       0\n",
      "AssetCost                    0\n",
      "AmountFinance                0\n",
      "DisbursalAmount              0\n",
      "EMI                          0\n",
      "DisbursalDate                0\n",
      "MaturityDAte                 0\n",
      "AuthDate                     0\n",
      "AssetID                      0\n",
      "ManufacturerID               0\n",
      "SupplierID                   0\n",
      "LTV                          0\n",
      "SEX                          0\n",
      "AGE                          0\n",
      "MonthlyIncome                0\n",
      "City                         0\n",
      "State                        0\n",
      "ZiPCODE                      0\n",
      "Top-up Month                 0\n",
      "dtype: int64\n",
      "Check Target Class Distribution\n",
      "No Top-up Service    382926\n",
      " > 48 Months          79641\n",
      "36-48 Months          26221\n",
      "24-30 Months          22377\n",
      "30-36 Months          18972\n",
      "18-24 Months          17692\n",
      "12-18 Months           9151\n",
      "Name: Top-up Month, dtype: int64\n"
     ]
    }
   ],
   "source": [
    "print(train_df.isnull().sum())\n",
    "print(\"Check Target Class Distribution\")\n",
    "print(train_df['Top-up Month'].value_counts())"
   ]
  },
  {
   "cell_type": "code",
   "execution_count": 19,
   "metadata": {
    "pycharm": {
     "is_executing": true,
     "name": "#%%\n"
    }
   },
   "outputs": [
    {
     "name": "stdout",
     "output_type": "stream",
     "text": [
      "Unique values for col MATCH-TYPE\n",
      "Number of Unique Values 2\n",
      "PRIMARY      556783\n",
      "SECONDARY       197\n",
      "Name: MATCH-TYPE, dtype: int64\n",
      "Unique values for col ACCT-TYPE\n",
      "Number of Unique Values 50\n",
      "Tractor Loan                                                           186117\n",
      "Gold Loan                                                               90817\n",
      "Business Loan Priority Sector  Agriculture                              79918\n",
      "Kisan Credit Card                                                       33340\n",
      "Auto Loan (Personal)                                                    29518\n",
      "Other                                                                   25513\n",
      "Commercial Vehicle Loan                                                 18731\n",
      "Two-Wheeler Loan                                                        15795\n",
      "Credit Card                                                             12406\n",
      "Consumer Loan                                                           12035\n",
      "Overdraft                                                                8926\n",
      "Personal Loan                                                            8621\n",
      "Housing Loan                                                             5400\n",
      "Construction Equipment Loan                                              4553\n",
      "JLG Individual                                                           4191\n",
      "Business Loan General                                                    3986\n",
      "Loan Against Bank Deposits                                               3803\n",
      "Used Car Loan                                                            2601\n",
      "Business Loan Priority Sector  Small Business                            1970\n",
      "Loan Against Shares / Securities                                         1550\n",
      "Property Loan                                                            1327\n",
      "Business Loan Priority Sector  Others                                    1137\n",
      "Mudra Loans   Shishu / Kishor / Tarun                                    1129\n",
      "Business Non-Funded Credit Facility-Priority Sector-Agriculture           513\n",
      "Education Loan                                                            448\n",
      "Non-Funded Credit Facility                                                426\n",
      "Business Loan - Secured                                                   348\n",
      "Business Loan Against Bank Deposits                                       301\n",
      "Individual                                                                296\n",
      "Business Loan Unsecured                                                   224\n",
      "Microfinance Business Loan                                                212\n",
      "Loan to Professional                                                      182\n",
      "Business Non-Funded Credit Facility-Priority Sector- Small Business       125\n",
      "Microfinance Others                                                       123\n",
      "Secured Credit Card                                                        83\n",
      "Business Non-Funded Credit Facility General                                72\n",
      "Prime Minister Jaan Dhan Yojana - Overdraft                                58\n",
      "JLG Group                                                                  34\n",
      "Pradhan Mantri Awas Yojana - CLSS                                          32\n",
      "SHG Individual                                                             25\n",
      "Microfinance Personal Loan                                                 25\n",
      "Fleet Card                                                                 23\n",
      "Commercial Equipment Loan                                                  14\n",
      "Microfinance Housing Loan                                                  14\n",
      "Corporate Credit Card                                                       5\n",
      "Loan on Credit Card                                                         5\n",
      "Business Non-Funded Credit Facility-Priority Sector-Others                  3\n",
      "Leasing                                                                     3\n",
      "SHG Group                                                                   1\n",
      "Telco Landline                                                              1\n",
      "Name: ACCT-TYPE, dtype: int64\n",
      "Unique values for col CONTRIBUTOR-TYPE\n",
      "Number of Unique Values 12\n",
      "NBF    256397\n",
      "NAB    173483\n",
      "PRB     74571\n",
      "RRB     23968\n",
      "COP     20045\n",
      "MFI      3360\n",
      "HFC      2736\n",
      "CCC      1469\n",
      "FRB       754\n",
      "SFB       187\n",
      "ARC         7\n",
      "OFI         3\n",
      "Name: CONTRIBUTOR-TYPE, dtype: int64\n",
      "Unique values for col DATE-REPORTED\n",
      "Number of Unique Values 2652\n",
      "2020-01-31 00:00:00    120510\n",
      "2019-12-31 00:00:00     69390\n",
      "2016-12-31 00:00:00     31702\n",
      "2019-11-30 00:00:00     20385\n",
      "2019-06-30 00:00:00     15682\n",
      "                        ...  \n",
      "2015-01-16 00:00:00         1\n",
      "2012-03-01 00:00:00         1\n",
      "2014-02-02 00:00:00         1\n",
      "2013-07-27 00:00:00         1\n",
      "2020-01-19 00:00:00         1\n",
      "Name: DATE-REPORTED, Length: 2652, dtype: int64\n",
      "Unique values for col OWNERSHIP-IND\n",
      "Number of Unique Values 5\n",
      "Individual          480924\n",
      "Joint                36850\n",
      "Guarantor            34521\n",
      "Primary               4547\n",
      "Supl Card Holder       138\n",
      "Name: OWNERSHIP-IND, dtype: int64\n",
      "Unique values for col ACCOUNT-STATUS\n",
      "Number of Unique Values 11\n",
      "Closed                         319447\n",
      "Active                         198897\n",
      "Delinquent                      32410\n",
      "Written Off                      2931\n",
      "Suit Filed                       2062\n",
      "Settled                           624\n",
      "Restructured                      510\n",
      "SUIT FILED (WILFUL DEFAULT)        70\n",
      "WILFUL DEFAULT                     27\n",
      "Cancelled                           1\n",
      "Sold/Purchased                      1\n",
      "Name: ACCOUNT-STATUS, dtype: int64\n",
      "Unique values for col DISBURSED-DT\n",
      "Number of Unique Values 6279\n",
      "2017-10-31 00:00:00    33645\n",
      "2017-06-30 00:00:00     1755\n",
      "2017-05-31 00:00:00     1105\n",
      "2018-03-31 00:00:00     1091\n",
      "2017-03-31 00:00:00     1091\n",
      "                       ...  \n",
      "1998-01-31 00:00:00        1\n",
      "2005-05-04 00:00:00        1\n",
      "2004-12-24 00:00:00        1\n",
      "1997-05-28 00:00:00        1\n",
      "2005-05-22 00:00:00        1\n",
      "Name: DISBURSED-DT, Length: 6279, dtype: int64\n",
      "Unique values for col CLOSE-DT\n",
      "Number of Unique Values 4685\n",
      "2019-06-01 00:00:00    249349\n",
      "2017-07-31 00:00:00       684\n",
      "2018-03-31 00:00:00       656\n",
      "2018-01-31 00:00:00       622\n",
      "2017-10-31 00:00:00       578\n",
      "                        ...  \n",
      "2007-01-04 00:00:00         1\n",
      "2006-02-09 00:00:00         1\n",
      "2007-11-06 00:00:00         1\n",
      "2006-06-10 00:00:00         1\n",
      "2007-07-17 00:00:00         1\n",
      "Name: CLOSE-DT, Length: 4685, dtype: int64\n",
      "Unique values for col DISBURSED-AMT/HIGH CREDIT\n",
      "Number of Unique Values 72426\n",
      "0           29866\n",
      "3,00,000    25118\n",
      "2,00,000    15772\n",
      "2,50,000    13081\n",
      "4,00,000    13037\n",
      "            ...  \n",
      "2,47,892        1\n",
      "4,84,250        1\n",
      "3,57,004        1\n",
      "3,13,847        1\n",
      "2,53,736        1\n",
      "Name: DISBURSED-AMT/HIGH CREDIT, Length: 72426, dtype: int64\n",
      "Unique values for col CURRENT-BAL\n",
      "Number of Unique Values 147445\n",
      "0           350588\n",
      "2,50,000       760\n",
      "1,00,000       422\n",
      "3,00,000       389\n",
      "50,000         353\n",
      "             ...  \n",
      "71,967           1\n",
      "6,741            1\n",
      "10,860           1\n",
      "1,22,379         1\n",
      "8,33,360         1\n",
      "Name: CURRENT-BAL, Length: 147445, dtype: int64\n",
      "Unique values for col OVERDUE-AMT\n",
      "Number of Unique Values 22385\n",
      "0           523526\n",
      "118            271\n",
      "1              144\n",
      "100             89\n",
      "236             61\n",
      "             ...  \n",
      "1,01,265         1\n",
      "89,394           1\n",
      "1,8,000          1\n",
      "15,497           1\n",
      "1,25,779         1\n",
      "Name: OVERDUE-AMT, Length: 22385, dtype: int64\n",
      "Unique values for col REPORTED DATE - HIST\n",
      "Number of Unique Values 57846\n",
      "20200131,20191231,20191130,20191031,20190930,20190831,20190731,20190630,20190531,20190430,20190331,20190228,20190131,20181231,20181130,20181031,20180930,20180831,20180731,20180630,20180531,20180430,20180331,20180228,20180131,20171231,20171130,20171031,20170930,20170831,20170731,20170630,20170531,20170430,20170331,20170228,    44422\n",
      "20191231,20191130,20191031,20190930,20190831,20190731,20190630,20190531,20190430,20190331,20190228,20190131,20181231,20181130,20181031,20180930,20180831,20180731,20180630,20180531,20180430,20180331,20180228,20180131,20171231,20171130,20171031,20170930,20170831,20170731,20170630,20170531,20170430,20170331,20170228,20170131,     6600\n",
      "20200131,20191231,20191130,20191031,20190930,20190831,20190731,20190630,20190531,20190430,20190331,20190228,20190131,20181231,20181130,20181031,20180930,20180831,20180731,20180630,20180531,20180430,20180331,20180228,20180131,20171231,20171130,20171031,20170930,20170831,20170731,20170630,                                         3480\n",
      "20200131,20191231,20191130,20191031,20190930,20190831,20190731,20190630,20190531,20190430,20190331,20190228,20190131,20181231,20181130,20181031,20180930,20180831,20180731,20180630,20180531,20180430,20180331,20180228,20180131,20171231,20171130,20171031,                                                                             2923\n",
      "20200131,                                                                                                                                                                                                                                                                                                                                2872\n",
      "                                                                                                                                                                                                                                                                                                                                        ...  \n",
      "20160531,20160430,20160331,20160229,20160131,20151231,20151101,20151031,20150930,20150831,20150731,                                                                                                                                                                                                                                         1\n",
      "20170502,20170401,20170331,20170228,20170131,20161231,20161130,20161031,20160901,20160831,20160730,20160630,20160501,20160401,20160301,20160201,20160130,20151231,20151130,20151031,20150930,20150831,20150731,20150630,20150530,20150430,20150331,20150228,20150101,20141231,20141129,20141031,20140930,20140830,20140731,20140630,        1\n",
      "20180115,20180102,20171201,20171102,20171003,20170901,20170802,20170701,20170601,20170519,20170401,20170301,20170201,                                                                                                                                                                                                                       1\n",
      "20181110,20181103,20181006,20180901,20180804,20180721,20180630,20180609,20180505,20180414,20180303,20180224,20180127,20171230,                                                                                                                                                                                                              1\n",
      "20190131,20181201,20181130,20181031,20180930,20180831,20180731,20180630,20180531,20180430,20180331,20180228,20180131,20171231,20171130,20171031,20170930,20170831,20170731,20170630,20170531,20170430,20170331,20170228,20170131,20161231,                                                                                                  1\n",
      "Name: REPORTED DATE - HIST, Length: 57846, dtype: int64\n",
      "Unique values for col DPD - HIST\n",
      "Number of Unique Values 134339\n"
     ]
    },
    {
     "name": "stdout",
     "output_type": "stream",
     "text": [
      "0                                                                                                               63177\n",
      "XXX                                                                                                             38531\n",
      "000000000000000000000000000000000000000000000000000000000000000000000000000000000000000000000000000000000000    22254\n",
      "XXXXXXXXXXXXXXXXXXXXXXXXXXXXXXXXXXXXXXXXXXXXXXXXXXXXXXXXXXXXXXXXXXXXXXXXXXXXXXXXXXXXXXXXXXXXXXXXXXXXXXXXXXXX    10765\n",
      "000                                                                                                              7330\n",
      "                                                                                                                ...  \n",
      "XXXDDDDDDDDDDDDDDDDDDDDDDDDXXXXXXXXXXXXXXXXXX                                                                       1\n",
      "DDD074043013000DDD000000                                                                                            1\n",
      "XXXXXXXXXXXXXXXXXXXXXXXXXXXXXXXXXXXXXXXXXXXXXXXXXXXXXXXXXXXXXXX089059XXXXXXXXX089089059XXXXXXXXXXXX061031001        1\n",
      "000000207177146117086057026000000000000000000                                                                       1\n",
      "XXXXXXXXXXXXXXXXXXXXXXXXXXXXXXXXXXXXXXXXXXXXXXXXXXXXXXXXXXXXXXXXXXXXXXXXXXXXXXXXX059XXXXXXXXXXXXXXXXXX059XXX        1\n",
      "Name: DPD - HIST, Length: 134339, dtype: int64\n",
      "Unique values for col CUR BAL - HIST\n",
      "Number of Unique Values 447072\n",
      ",                                                                                                                                                                                                                                            50779\n",
      "0,                                                                                                                                                                                                                                            8673\n",
      "0,0,0,0,0,0,0,0,0,0,0,0,0,0,0,0,0,0,0,0,0,0,0,0,0,0,0,0,0,0,0,0,0,0,0,0,                                                                                                                                                                      2019\n",
      "0,0,                                                                                                                                                                                                                                          1855\n",
      "0,0,,,,,,,,,,,,,0,0,                                                                                                                                                                                                                           457\n",
      "                                                                                                                                                                                                                                             ...  \n",
      "0,56777,56777,56777,56777,56777,56777,108643,108643,108643,108643,108643,108643,156011,156011,156011,156011,156011,156011,199285,199285,199285,199285,199285,199285,238793,238793,238793,238793,238793,238793,                                   1\n",
      "1101083,,1205106,1256510,1306907,1356754,1390468,,1493157,1543565,1594940,1644407,1693416,1742494,1790595,1838803,1886014,1932788,1979723,2025630,2071733,2116789,2163373,2273489,2316201,2357443,,2446572,2401518,2401518,                      1\n",
      "0,0,34748,34748,34748,67828,67828,67828,99320,99320,99320,129301,129301,129301,157843,157843,157843,185015,185015,185015,210883,210883,210883,235509,235509,235509,235509,258953,258953,258953,281272,281272,281272,302519,302519,325000,        1\n",
      "166002,166002,166002,166002,166002,163601,160201,,108601,108601,108601,103982,103982,103982,103982,,103982,,100637,                                                                                                                              1\n",
      "0,0,0,0,0,-732,38887,,38887,,78982,78982,118905,118905,,,,,0,196264,235764,235732,235732,235732,275136,275136,275136,314636,314636,314636,353472,353472,393472,393375,393375,393375,                                                             1\n",
      "Name: CUR BAL - HIST, Length: 447072, dtype: int64\n",
      "Unique values for col AMT OVERDUE - HIST\n",
      "Number of Unique Values 187341\n",
      ",                                                                                                              54227\n",
      "0,0,0,0,0,0,0,0,0,0,0,0,0,0,0,0,0,0,0,0,0,0,0,0,0,0,0,0,0,0,0,0,0,0,0,0                                        14297\n",
      ",,,,,,,,,,,,,,,,,,,,,,,,,,,,,,,,,,,,                                                                           11101\n",
      "0,0,0,0,0,0,0,0,0,0,0,0,0,0,0,0,0,0,0,0,0,0,0,0,0,0,0,0,0,0,0,0,0,0,0,0,                                       10245\n",
      "0,                                                                                                              8822\n",
      "                                                                                                               ...  \n",
      "1138,1138,1138,1138,,,,3368,3368,3368,648,648,648,648,648,,,,,,,,,,,,,,,,,,4380,4380,1775,1775,                    1\n",
      ",,,,,,,,,156,156,156,,15461,9963,9963,12609,12609,12609,5462,5462                                                  1\n",
      "0,858,9040,0,9402,0,8942,552,133,0,134,0,143,0,0,0,0,124,0,0,0,0,0,0,0,0,0                                         1\n",
      "0,42500,42500,42500,42500,42500,42500,42500,42500,42500,0,0,0,0,0,0,0,0,0,0,0,0,0,0,0,0,0,0,0,0,0,0,0,0,0,0        1\n",
      "43256,0,0,0,43843,0,43843,43843,0,0,0,0,0,0,0,0,0,0,0,0,0,0,0,0,0,0,0,0,0,0,,,0,,,0,                               1\n",
      "Name: AMT OVERDUE - HIST, Length: 187341, dtype: int64\n",
      "Unique values for col AMT PAID - HIST\n",
      "Number of Unique Values 83417\n",
      ",,,,,,,,,,,,,,,,,,,,,,,,,,,,,,,,,,,,,                                                                                                                                                                                                                                                  83405\n",
      ",,,,,,,,,,,,,,,,,,,,,,,,,,,,,,,,,,,,                                                                                                                                                                                                                                                   44549\n",
      ",                                                                                                                                                                                                                                                                                      41537\n",
      ",,,,,,,,,,,,,,                                                                                                                                                                                                                                                                         13862\n",
      ",,                                                                                                                                                                                                                                                                                     11236\n",
      "                                                                                                                                                                                                                                                                                       ...  \n",
      "150582,597,,157000,,3687,,,,,,,,213000,,,155000,,1935,,,,,,,173000,,,158000,,4372,,,,,121000,                                                                                                                                                                                              1\n",
      "33099,0,0,0,                                                                                                                                                                                                                                                                               1\n",
      "190030,1103211,1099630,1099630,1099630,1099630,1099630,1099630,1099630,1099630,1099630,1099630,1099630,1099630,1099630,1099630,1099630,1099630,0,1099630,1099630,1099630,1099630,1099630,1099630,1099630,1099630,1099630,1099630,1099630,1099630,1099630,1099630,1099630,0,1100263,        1\n",
      "112400,3100,65000,3100,2000,3100,2000,2000,0,                                                                                                                                                                                                                                              1\n",
      "0,0,0,0,0,0,77000,0,0,0,0,0,0,0,0,0,0,0,0,                                                                                                                                                                                                                                                 1\n",
      "Name: AMT PAID - HIST, Length: 83417, dtype: int64\n",
      "Unique values for col Frequency\n",
      "Number of Unique Values 4\n",
      "Half Yearly    344994\n",
      "Monthly        139863\n",
      "Quatrly         70980\n",
      "BI-Monthly       1143\n",
      "Name: Frequency, dtype: int64\n",
      "Unique values for col InstlmentMode\n",
      "Number of Unique Values 2\n",
      "Arrear     528279\n",
      "Advance     28701\n",
      "Name: InstlmentMode, dtype: int64\n",
      "Unique values for col LoanStatus\n"
     ]
    },
    {
     "name": "stdout",
     "output_type": "stream",
     "text": [
      "Number of Unique Values 2\n",
      "Closed    432200\n",
      "Active    124780\n",
      "Name: LoanStatus, dtype: int64\n",
      "Unique values for col PaymentMode\n",
      "Number of Unique Values 11\n",
      "ECS             144740\n",
      "Direct Debit    125654\n",
      "PDC             116661\n",
      "Billed          116335\n",
      "PDC_E            43367\n",
      "SI Reject         3466\n",
      "Auto Debit        3449\n",
      "ECS Reject        1968\n",
      "Cheque            1316\n",
      "Escrow              14\n",
      "PDC Reject          10\n",
      "Name: PaymentMode, dtype: int64\n",
      "Unique values for col Area\n",
      "Number of Unique Values 92\n",
      "NELLORE           95959\n",
      "VIJAYAWADA        30799\n",
      "SIRSA             24718\n",
      "MIRYALGUDA        23604\n",
      "SINDHANUR         20756\n",
      "                  ...  \n",
      "MANDLA               32\n",
      "GUWAHATI             21\n",
      "GANGAPUR CITY         8\n",
      "NAGAUR                6\n",
      "UTTAR DINAJPUR        3\n",
      "Name: Area, Length: 92, dtype: int64\n",
      "Unique values for col DisbursalDate\n",
      "Number of Unique Values 2837\n",
      "2017-10-31 00:00:00    5374\n",
      "2017-06-30 00:00:00    4152\n",
      "2017-09-30 00:00:00    3090\n",
      "2017-11-30 00:00:00    2733\n",
      "2016-10-31 00:00:00    2674\n",
      "                       ... \n",
      "2015-02-02 00:00:00       1\n",
      "2019-09-27 00:00:00       1\n",
      "2016-12-06 00:00:00       1\n",
      "2010-08-01 00:00:00       1\n",
      "2010-08-14 00:00:00       1\n",
      "Name: DisbursalDate, Length: 2837, dtype: int64\n",
      "Unique values for col MaturityDAte\n",
      "Number of Unique Values 980\n",
      "2017-12-10 00:00:00    9557\n",
      "2017-06-10 00:00:00    9495\n",
      "2018-06-10 00:00:00    9426\n",
      "2019-06-10 00:00:00    8680\n",
      "2021-06-10 00:00:00    8633\n",
      "                       ... \n",
      "2013-04-24 00:00:00       1\n",
      "2012-05-09 00:00:00       1\n",
      "2015-02-04 00:00:00       1\n",
      "2014-02-04 00:00:00       1\n",
      "2030-02-10 00:00:00       1\n",
      "Name: MaturityDAte, Length: 980, dtype: int64\n",
      "Unique values for col AuthDate\n",
      "Number of Unique Values 2711\n",
      "2017-10-31 00:00:00    5439\n",
      "2017-06-30 00:00:00    4166\n",
      "2017-09-30 00:00:00    3110\n",
      "2017-11-30 00:00:00    2756\n",
      "2016-10-31 00:00:00    2692\n",
      "                       ... \n",
      "2018-08-02 00:00:00       1\n",
      "2015-12-05 00:00:00       1\n",
      "2019-07-24 00:00:00       1\n",
      "2011-04-05 00:00:00       1\n",
      "2019-07-22 00:00:00       1\n",
      "Name: AuthDate, Length: 2711, dtype: int64\n",
      "Unique values for col SEX\n",
      "Number of Unique Values 2\n",
      "M    533404\n",
      "F     23576\n",
      "Name: SEX, dtype: int64\n",
      "Unique values for col City\n",
      "Number of Unique Values 488\n",
      "GUNTUR           63964\n",
      "NELLORE          14803\n",
      "NALGONDA         13230\n",
      "PRAKASAM         10611\n",
      "KARIMNAGAR        8995\n",
      "                 ...  \n",
      "DARRANG              1\n",
      "RUDRAPRAYAG          1\n",
      "NALBARI              1\n",
      "MUZAFFARNAGAR        1\n",
      "CHATRA               1\n",
      "Name: City, Length: 488, dtype: int64\n",
      "Unique values for col State\n",
      "Number of Unique Values 22\n",
      "ANDHRA PRADESH            140514\n",
      "MADHYA PRADESH             73971\n",
      "KARNATAKA                  59787\n",
      "GUJARAT                    43045\n",
      "RAJASTHAN                  37130\n",
      "HARYANA                    34993\n",
      "PUNJAB                     32842\n",
      "MAHARASHTRA                32534\n",
      "UTTAR PRADESH              31467\n",
      "WEST BENGAL                18435\n",
      "TELANGANA                  15874\n",
      "CHATTISGARH                15651\n",
      "ORISSA                     11767\n",
      "BIHAR                       8501\n",
      "HIMACHAL PRADESH             284\n",
      "DELHI                         53\n",
      "JHARKHAND                     52\n",
      "UTTARAKHAND                   44\n",
      "ASSAM                         21\n",
      "CHANDIGARH                     6\n",
      "TAMIL NADU                     5\n",
      "DADRA AND NAGAR HAVELI         4\n",
      "Name: State, dtype: int64\n",
      "Unique values for col Top-up Month\n",
      "Number of Unique Values 7\n",
      "No Top-up Service    382926\n",
      " > 48 Months          79641\n",
      "36-48 Months          26221\n",
      "24-30 Months          22377\n",
      "30-36 Months          18972\n",
      "18-24 Months          17692\n",
      "12-18 Months           9151\n",
      "Name: Top-up Month, dtype: int64\n"
     ]
    }
   ],
   "source": [
    "for col in categorical:\n",
    "    print(\"Unique values for col\",col)\n",
    "    print(\"Number of Unique Values\",train_df[col].nunique())\n",
    "    print(train_df[col].value_counts())\n",
    "\n",
    "# # Analyse Columns.\n",
    "# # Merge Columns.\n",
    "# new_df = pd.concat([boolean,categorical],axis=1)\n",
    "# print(new_df.shape)"
   ]
  },
  {
   "cell_type": "code",
   "execution_count": 20,
   "metadata": {
    "pycharm": {
     "is_executing": true,
     "name": "#%%\n"
    }
   },
   "outputs": [],
   "source": [
    "# Label Encoding of categorical columns.\n",
    "cols = ['MATCH-TYPE','ACCT-TYPE','CONTRIBUTOR-TYPE', 'OWNERSHIP-IND','ACCOUNT-STATUS','Frequency', 'InstlmentMode',\n",
    "        'LoanStatus','PaymentMode', 'Area', 'SEX', 'City','State','SELF-INDICATOR','Top-up Month']\n",
    "\n",
    "lb = LabelEncoder()\n",
    "for col in cols:\n",
    "    train_df[col] = lb.fit_transform(train_df[col])\n",
    "\n",
    "train_df = train_df.replace(',','', regex=True)"
   ]
  },
  {
   "cell_type": "code",
   "execution_count": 21,
   "metadata": {
    "pycharm": {
     "is_executing": true,
     "name": "#%%\n"
    }
   },
   "outputs": [
    {
     "name": "stdout",
     "output_type": "stream",
     "text": [
      "Index(['ID', 'SELF-INDICATOR', 'MATCH-TYPE', 'ACCT-TYPE', 'CONTRIBUTOR-TYPE',\n",
      "       'DATE-REPORTED', 'OWNERSHIP-IND', 'ACCOUNT-STATUS', 'DISBURSED-DT',\n",
      "       'CLOSE-DT', 'DISBURSED-AMT/HIGH CREDIT', 'CURRENT-BAL', 'OVERDUE-AMT',\n",
      "       'WRITE-OFF-AMT', 'REPORTED DATE - HIST', 'DPD - HIST', 'CUR BAL - HIST',\n",
      "       'AMT OVERDUE - HIST', 'AMT PAID - HIST', 'Frequency', 'InstlmentMode',\n",
      "       'LoanStatus', 'PaymentMode', 'BranchID', 'Area', 'Tenure', 'AssetCost',\n",
      "       'AmountFinance', 'DisbursalAmount', 'EMI', 'DisbursalDate',\n",
      "       'MaturityDAte', 'AuthDate', 'AssetID', 'ManufacturerID', 'SupplierID',\n",
      "       'LTV', 'SEX', 'AGE', 'MonthlyIncome', 'City', 'State', 'ZiPCODE',\n",
      "       'Top-up Month'],\n",
      "      dtype='object')\n"
     ]
    }
   ],
   "source": [
    "print(train_df.columns)\n",
    "X = train_df[['ID', 'SELF-INDICATOR', 'MATCH-TYPE', 'ACCT-TYPE', 'CONTRIBUTOR-TYPE',\n",
    "       'OWNERSHIP-IND', 'ACCOUNT-STATUS',\n",
    "        'DISBURSED-AMT/HIGH CREDIT', 'CURRENT-BAL', 'OVERDUE-AMT',\n",
    "       'WRITE-OFF-AMT','Frequency', 'InstlmentMode',\n",
    "       'LoanStatus', 'PaymentMode', 'BranchID', 'Area', 'Tenure', 'AssetCost',\n",
    "       'AmountFinance', 'DisbursalAmount', 'EMI','AssetID', 'ManufacturerID', 'SupplierID',\n",
    "       'LTV', 'SEX', 'AGE', 'MonthlyIncome', 'City', 'State', 'ZiPCODE',\n",
    "       'Top-up Month']]\n",
    "\n",
    "#  'REPORTED DATE - HIST', 'DPD - HIST', 'CUR BAL - HIST',\n",
    "#        'AMT OVERDUE - HIST', 'AMT PAID - HIST',  'DisbursalDate', 'MaturityDAte', 'AuthDate', \n",
    "\n",
    "Y = train_df['Top-up Month']\n",
    "\n",
    "X_train,X_test,y_train,y_test = train_test_split(X,Y,stratify = Y,test_size=0.2,random_state = 101)"
   ]
  },
  {
   "cell_type": "code",
   "execution_count": 22,
   "metadata": {
    "pycharm": {
     "is_executing": true,
     "name": "#%%\n"
    }
   },
   "outputs": [],
   "source": [
    "scaler = StandardScaler()\n",
    "X_train = scaler.fit_transform(X_train)\n",
    "X_test = scaler.transform(X_test)\n"
   ]
  },
  {
   "cell_type": "code",
   "execution_count": 23,
   "metadata": {
    "pycharm": {
     "is_executing": true,
     "name": "#%%\n"
    }
   },
   "outputs": [],
   "source": [
    "from sklearn.metrics import f1_score\n",
    "# classifier_o = AdaBoostClassifier(random_state=20)  #\n",
    "# classifier_o.fit(X_train,y_train)\n",
    "# pred = classifier_o.predict(X_test)\n",
    "# print(f1_score(y_test,pred,average='macro'))\n"
   ]
  },
  {
   "cell_type": "code",
   "execution_count": 24,
   "metadata": {
    "pycharm": {
     "is_executing": true,
     "name": "#%%\n"
    }
   },
   "outputs": [
    {
     "name": "stdout",
     "output_type": "stream",
     "text": [
      "1.0\n"
     ]
    }
   ],
   "source": [
    "classifier_o = LGBMClassifier(random_state=20)  #\n",
    "classifier_o.fit(X_train,y_train)\n",
    "pred = classifier_o.predict(X_test)\n",
    "print(f1_score(y_test,pred,average='macro'))"
   ]
  },
  {
   "cell_type": "code",
   "execution_count": 25,
   "metadata": {
    "pycharm": {
     "is_executing": true,
     "name": "#%%\n"
    }
   },
   "outputs": [],
   "source": [
    "# classifier_o = GradientBoostingClassifier(random_state=20)  #\n",
    "# classifier_o.fit(X_train,y_train)\n",
    "# pred = classifier_o.predict(X_test)\n",
    "# print(f1_score(y_test,pred,average='macro'))"
   ]
  },
  {
   "cell_type": "code",
   "execution_count": 26,
   "metadata": {
    "pycharm": {
     "is_executing": true,
     "name": "#%%\n"
    }
   },
   "outputs": [
    {
     "name": "stdout",
     "output_type": "stream",
     "text": [
      "0.999929074816781\n"
     ]
    }
   ],
   "source": [
    "classifier_o = RandomForestClassifier(random_state=20)  #\n",
    "classifier_o.fit(X_train,y_train)\n",
    "pred = classifier_o.predict(X_test)\n",
    "print(f1_score(y_test,pred,average='macro'))"
   ]
  },
  {
   "cell_type": "code",
   "execution_count": null,
   "metadata": {
    "pycharm": {
     "is_executing": true,
     "name": "#%%\n"
    }
   },
   "outputs": [],
   "source": []
  }
 ],
 "metadata": {
  "kernelspec": {
   "display_name": "Python 3",
   "language": "python",
   "name": "python3"
  },
  "language_info": {
   "codemirror_mode": {
    "name": "ipython",
    "version": 3
   },
   "file_extension": ".py",
   "mimetype": "text/x-python",
   "name": "python",
   "nbconvert_exporter": "python",
   "pygments_lexer": "ipython3",
   "version": "3.8.6"
  }
 },
 "nbformat": 4,
 "nbformat_minor": 2
}
