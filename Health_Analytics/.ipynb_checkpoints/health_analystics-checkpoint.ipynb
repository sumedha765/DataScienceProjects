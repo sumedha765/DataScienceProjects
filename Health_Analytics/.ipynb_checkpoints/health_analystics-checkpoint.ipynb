{
 "cells": [
  {
   "cell_type": "code",
   "execution_count": 1,
   "metadata": {},
   "outputs": [],
   "source": [
    "from sklearn.metrics import accuracy_score\n",
    "from sklearn.model_selection import StratifiedKFold\n",
    "import pandas as pd\n",
    "from sklearn.svm import LinearSVC\n",
    "pd.set_option('display.max_columns', 100)\n",
    "import os\n",
    "import seaborn as sns\n",
    "sns.set()\n",
    "import numpy as np\n",
    "from sklearn.ensemble import VotingClassifier, RandomForestClassifier, GradientBoostingClassifier\n",
    "from sklearn.naive_bayes import GaussianNB, MultinomialNB\n",
    "from lightgbm import LGBMClassifier\n",
    "from sklearn.metrics import roc_auc_score\n",
    "from sklearn.preprocessing import LabelEncoder\n",
    "import warnings\n",
    "warnings.filterwarnings('ignore')\n",
    "import matplotlib.pyplot as plt\n",
    "%matplotlib inline\n",
    "plt.rcParams['figure.figsize'] = 8, 5\n",
    "plt.style.use(\"fivethirtyeight\")\n",
    "for dirname, _, filenames in os.walk('HealthAnalytics2'):\n",
    "    for filename in filenames:\n",
    "        print(os.path.join(dirname, filename))\n",
    "from sklearn.preprocessing import LabelEncoder, StandardScaler"
   ]
  },
  {
   "cell_type": "code",
   "execution_count": 2,
   "metadata": {
    "pycharm": {
     "name": "#%%\n"
    }
   },
   "outputs": [],
   "source": [
    "train_df = pd.read_csv('Data/train.csv')\n",
    "test_df = pd.read_csv('Data/test.csv')\n",
    "sub_df = pd.read_csv('Data/sample_submission_lfbv3c3.csv')"
   ]
  },
  {
   "cell_type": "code",
   "execution_count": 3,
   "metadata": {
    "pycharm": {
     "name": "#%%\n"
    }
   },
   "outputs": [
    {
     "name": "stdout",
     "output_type": "stream",
     "text": [
      "Training data shape:  (318438, 18)\n",
      "Test data shape:  (137057, 17)\n"
     ]
    },
    {
     "data": {
      "text/html": [
       "<div>\n",
       "<style scoped>\n",
       "    .dataframe tbody tr th:only-of-type {\n",
       "        vertical-align: middle;\n",
       "    }\n",
       "\n",
       "    .dataframe tbody tr th {\n",
       "        vertical-align: top;\n",
       "    }\n",
       "\n",
       "    .dataframe thead th {\n",
       "        text-align: right;\n",
       "    }\n",
       "</style>\n",
       "<table border=\"1\" class=\"dataframe\">\n",
       "  <thead>\n",
       "    <tr style=\"text-align: right;\">\n",
       "      <th></th>\n",
       "      <th>case_id</th>\n",
       "      <th>Hospital_code</th>\n",
       "      <th>Hospital_type_code</th>\n",
       "      <th>City_Code_Hospital</th>\n",
       "      <th>Hospital_region_code</th>\n",
       "      <th>Available Extra Rooms in Hospital</th>\n",
       "      <th>Department</th>\n",
       "      <th>Ward_Type</th>\n",
       "      <th>Ward_Facility_Code</th>\n",
       "      <th>Bed Grade</th>\n",
       "      <th>patientid</th>\n",
       "      <th>City_Code_Patient</th>\n",
       "      <th>Type of Admission</th>\n",
       "      <th>Severity of Illness</th>\n",
       "      <th>Visitors with Patient</th>\n",
       "      <th>Age</th>\n",
       "      <th>Admission_Deposit</th>\n",
       "    </tr>\n",
       "  </thead>\n",
       "  <tbody>\n",
       "    <tr>\n",
       "      <th>0</th>\n",
       "      <td>318439</td>\n",
       "      <td>21</td>\n",
       "      <td>c</td>\n",
       "      <td>3</td>\n",
       "      <td>Z</td>\n",
       "      <td>3</td>\n",
       "      <td>gynecology</td>\n",
       "      <td>S</td>\n",
       "      <td>A</td>\n",
       "      <td>2.0</td>\n",
       "      <td>17006</td>\n",
       "      <td>2.0</td>\n",
       "      <td>Emergency</td>\n",
       "      <td>Moderate</td>\n",
       "      <td>2</td>\n",
       "      <td>71-80</td>\n",
       "      <td>3095.0</td>\n",
       "    </tr>\n",
       "    <tr>\n",
       "      <th>1</th>\n",
       "      <td>318440</td>\n",
       "      <td>29</td>\n",
       "      <td>a</td>\n",
       "      <td>4</td>\n",
       "      <td>X</td>\n",
       "      <td>2</td>\n",
       "      <td>gynecology</td>\n",
       "      <td>S</td>\n",
       "      <td>F</td>\n",
       "      <td>2.0</td>\n",
       "      <td>17006</td>\n",
       "      <td>2.0</td>\n",
       "      <td>Trauma</td>\n",
       "      <td>Moderate</td>\n",
       "      <td>4</td>\n",
       "      <td>71-80</td>\n",
       "      <td>4018.0</td>\n",
       "    </tr>\n",
       "    <tr>\n",
       "      <th>2</th>\n",
       "      <td>318441</td>\n",
       "      <td>26</td>\n",
       "      <td>b</td>\n",
       "      <td>2</td>\n",
       "      <td>Y</td>\n",
       "      <td>3</td>\n",
       "      <td>gynecology</td>\n",
       "      <td>Q</td>\n",
       "      <td>D</td>\n",
       "      <td>4.0</td>\n",
       "      <td>17006</td>\n",
       "      <td>2.0</td>\n",
       "      <td>Emergency</td>\n",
       "      <td>Moderate</td>\n",
       "      <td>3</td>\n",
       "      <td>71-80</td>\n",
       "      <td>4492.0</td>\n",
       "    </tr>\n",
       "    <tr>\n",
       "      <th>3</th>\n",
       "      <td>318442</td>\n",
       "      <td>6</td>\n",
       "      <td>a</td>\n",
       "      <td>6</td>\n",
       "      <td>X</td>\n",
       "      <td>3</td>\n",
       "      <td>gynecology</td>\n",
       "      <td>Q</td>\n",
       "      <td>F</td>\n",
       "      <td>2.0</td>\n",
       "      <td>17006</td>\n",
       "      <td>2.0</td>\n",
       "      <td>Trauma</td>\n",
       "      <td>Moderate</td>\n",
       "      <td>3</td>\n",
       "      <td>71-80</td>\n",
       "      <td>4173.0</td>\n",
       "    </tr>\n",
       "    <tr>\n",
       "      <th>4</th>\n",
       "      <td>318443</td>\n",
       "      <td>28</td>\n",
       "      <td>b</td>\n",
       "      <td>11</td>\n",
       "      <td>X</td>\n",
       "      <td>2</td>\n",
       "      <td>gynecology</td>\n",
       "      <td>R</td>\n",
       "      <td>F</td>\n",
       "      <td>2.0</td>\n",
       "      <td>17006</td>\n",
       "      <td>2.0</td>\n",
       "      <td>Trauma</td>\n",
       "      <td>Moderate</td>\n",
       "      <td>4</td>\n",
       "      <td>71-80</td>\n",
       "      <td>4161.0</td>\n",
       "    </tr>\n",
       "  </tbody>\n",
       "</table>\n",
       "</div>"
      ],
      "text/plain": [
       "   case_id  Hospital_code Hospital_type_code  City_Code_Hospital  \\\n",
       "0   318439             21                  c                   3   \n",
       "1   318440             29                  a                   4   \n",
       "2   318441             26                  b                   2   \n",
       "3   318442              6                  a                   6   \n",
       "4   318443             28                  b                  11   \n",
       "\n",
       "  Hospital_region_code  Available Extra Rooms in Hospital  Department  \\\n",
       "0                    Z                                  3  gynecology   \n",
       "1                    X                                  2  gynecology   \n",
       "2                    Y                                  3  gynecology   \n",
       "3                    X                                  3  gynecology   \n",
       "4                    X                                  2  gynecology   \n",
       "\n",
       "  Ward_Type Ward_Facility_Code  Bed Grade  patientid  City_Code_Patient  \\\n",
       "0         S                  A        2.0      17006                2.0   \n",
       "1         S                  F        2.0      17006                2.0   \n",
       "2         Q                  D        4.0      17006                2.0   \n",
       "3         Q                  F        2.0      17006                2.0   \n",
       "4         R                  F        2.0      17006                2.0   \n",
       "\n",
       "  Type of Admission Severity of Illness  Visitors with Patient    Age  \\\n",
       "0         Emergency            Moderate                      2  71-80   \n",
       "1            Trauma            Moderate                      4  71-80   \n",
       "2         Emergency            Moderate                      3  71-80   \n",
       "3            Trauma            Moderate                      3  71-80   \n",
       "4            Trauma            Moderate                      4  71-80   \n",
       "\n",
       "   Admission_Deposit  \n",
       "0             3095.0  \n",
       "1             4018.0  \n",
       "2             4492.0  \n",
       "3             4173.0  \n",
       "4             4161.0  "
      ]
     },
     "execution_count": 3,
     "metadata": {},
     "output_type": "execute_result"
    }
   ],
   "source": [
    "# Training data.\n",
    "print('Training data shape: ', train_df.shape)\n",
    "train_df.head(5)\n",
    "\n",
    "# Test data.\n",
    "print('Test data shape: ', test_df.shape)\n",
    "test_df.head(5)"
   ]
  },
  {
   "cell_type": "code",
   "execution_count": 4,
   "metadata": {
    "pycharm": {
     "name": "#%%\n"
    }
   },
   "outputs": [
    {
     "name": "stdout",
     "output_type": "stream",
     "text": [
      "Train Set\n",
      "<class 'pandas.core.frame.DataFrame'>\n",
      "RangeIndex: 318438 entries, 0 to 318437\n",
      "Data columns (total 18 columns):\n",
      " #   Column                             Non-Null Count   Dtype  \n",
      "---  ------                             --------------   -----  \n",
      " 0   case_id                            318438 non-null  int64  \n",
      " 1   Hospital_code                      318438 non-null  int64  \n",
      " 2   Hospital_type_code                 318438 non-null  object \n",
      " 3   City_Code_Hospital                 318438 non-null  int64  \n",
      " 4   Hospital_region_code               318438 non-null  object \n",
      " 5   Available Extra Rooms in Hospital  318438 non-null  int64  \n",
      " 6   Department                         318438 non-null  object \n",
      " 7   Ward_Type                          318438 non-null  object \n",
      " 8   Ward_Facility_Code                 318438 non-null  object \n",
      " 9   Bed Grade                          318325 non-null  float64\n",
      " 10  patientid                          318438 non-null  int64  \n",
      " 11  City_Code_Patient                  313906 non-null  float64\n",
      " 12  Type of Admission                  318438 non-null  object \n",
      " 13  Severity of Illness                318438 non-null  object \n",
      " 14  Visitors with Patient              318438 non-null  int64  \n",
      " 15  Age                                318438 non-null  object \n",
      " 16  Admission_Deposit                  318438 non-null  int64  \n",
      " 17  Stay                               318438 non-null  object \n",
      "dtypes: float64(2), int64(7), object(9)\n",
      "memory usage: 43.7+ MB\n",
      "None\n",
      "-------------\n",
      "Test Set\n",
      "<class 'pandas.core.frame.DataFrame'>\n",
      "RangeIndex: 137057 entries, 0 to 137056\n",
      "Data columns (total 17 columns):\n",
      " #   Column                             Non-Null Count   Dtype  \n",
      "---  ------                             --------------   -----  \n",
      " 0   case_id                            137057 non-null  int64  \n",
      " 1   Hospital_code                      137057 non-null  int64  \n",
      " 2   Hospital_type_code                 137057 non-null  object \n",
      " 3   City_Code_Hospital                 137057 non-null  int64  \n",
      " 4   Hospital_region_code               137057 non-null  object \n",
      " 5   Available Extra Rooms in Hospital  137057 non-null  int64  \n",
      " 6   Department                         137057 non-null  object \n",
      " 7   Ward_Type                          137057 non-null  object \n",
      " 8   Ward_Facility_Code                 137057 non-null  object \n",
      " 9   Bed Grade                          137022 non-null  float64\n",
      " 10  patientid                          137057 non-null  int64  \n",
      " 11  City_Code_Patient                  134900 non-null  float64\n",
      " 12  Type of Admission                  137057 non-null  object \n",
      " 13  Severity of Illness                137057 non-null  object \n",
      " 14  Visitors with Patient              137057 non-null  int64  \n",
      " 15  Age                                137057 non-null  object \n",
      " 16  Admission_Deposit                  137057 non-null  float64\n",
      "dtypes: float64(3), int64(6), object(8)\n",
      "memory usage: 17.8+ MB\n",
      "None\n"
     ]
    }
   ],
   "source": [
    "# Null values and Data types.\n",
    "print('Train Set')\n",
    "print(train_df.info())\n",
    "print('-------------')\n",
    "print('Test Set')\n",
    "print(test_df.info())"
   ]
  },
  {
   "cell_type": "code",
   "execution_count": 5,
   "metadata": {
    "pycharm": {
     "name": "#%%\n"
    }
   },
   "outputs": [
    {
     "name": "stdout",
     "output_type": "stream",
     "text": [
      "case_id                                 0\n",
      "Hospital_code                           0\n",
      "Hospital_type_code                      0\n",
      "City_Code_Hospital                      0\n",
      "Hospital_region_code                    0\n",
      "Available Extra Rooms in Hospital       0\n",
      "Department                              0\n",
      "Ward_Type                               0\n",
      "Ward_Facility_Code                      0\n",
      "Bed Grade                             113\n",
      "patientid                               0\n",
      "City_Code_Patient                    4532\n",
      "Type of Admission                       0\n",
      "Severity of Illness                     0\n",
      "Visitors with Patient                   0\n",
      "Age                                     0\n",
      "Admission_Deposit                       0\n",
      "Stay                                    0\n",
      "dtype: int64\n",
      "case_id                                 0\n",
      "Hospital_code                           0\n",
      "Hospital_type_code                      0\n",
      "City_Code_Hospital                      0\n",
      "Hospital_region_code                    0\n",
      "Available Extra Rooms in Hospital       0\n",
      "Department                              0\n",
      "Ward_Type                               0\n",
      "Ward_Facility_Code                      0\n",
      "Bed Grade                              35\n",
      "patientid                               0\n",
      "City_Code_Patient                    2157\n",
      "Type of Admission                       0\n",
      "Severity of Illness                     0\n",
      "Visitors with Patient                   0\n",
      "Age                                     0\n",
      "Admission_Deposit                       0\n",
      "dtype: int64\n",
      "case_id                              0\n",
      "Hospital_code                        0\n",
      "Hospital_type_code                   0\n",
      "City_Code_Hospital                   0\n",
      "Hospital_region_code                 0\n",
      "Available Extra Rooms in Hospital    0\n",
      "Department                           0\n",
      "Ward_Type                            0\n",
      "Ward_Facility_Code                   0\n",
      "Bed Grade                            0\n",
      "patientid                            0\n",
      "City_Code_Patient                    0\n",
      "Type of Admission                    0\n",
      "Severity of Illness                  0\n",
      "Visitors with Patient                0\n",
      "Age                                  0\n",
      "Admission_Deposit                    0\n",
      "Stay                                 0\n",
      "dtype: int64\n",
      "case_id                              0\n",
      "Hospital_code                        0\n",
      "Hospital_type_code                   0\n",
      "City_Code_Hospital                   0\n",
      "Hospital_region_code                 0\n",
      "Available Extra Rooms in Hospital    0\n",
      "Department                           0\n",
      "Ward_Type                            0\n",
      "Ward_Facility_Code                   0\n",
      "Bed Grade                            0\n",
      "patientid                            0\n",
      "City_Code_Patient                    0\n",
      "Type of Admission                    0\n",
      "Severity of Illness                  0\n",
      "Visitors with Patient                0\n",
      "Age                                  0\n",
      "Admission_Deposit                    0\n",
      "dtype: int64\n"
     ]
    }
   ],
   "source": [
    "print(train_df.isnull().sum())\n",
    "print(test_df.isnull().sum())\n",
    "\n",
    "train_df['Bed Grade'].fillna(train_df['Bed Grade'].mode()[0], inplace=True)\n",
    "train_df['City_Code_Patient'].fillna(train_df['City_Code_Patient'].mode()[0], inplace=True)\n",
    "test_df['City_Code_Patient'].fillna(test_df['City_Code_Patient'].mode()[0], inplace=True)\n",
    "test_df['Bed Grade'].fillna(test_df['Bed Grade'].mode()[0], inplace=True)\n",
    "\n",
    "print(train_df.isnull().sum())\n",
    "print(test_df.isnull().sum())"
   ]
  },
  {
   "cell_type": "code",
   "execution_count": 6,
   "metadata": {
    "pycharm": {
     "name": "#%%\n"
    }
   },
   "outputs": [
    {
     "name": "stdout",
     "output_type": "stream",
     "text": [
      "Total Patients in Train set:  92017\n",
      "Total Patients in Test set:  39607\n"
     ]
    }
   ],
   "source": [
    "# Total number of Patients in the dataset(train+test)\n",
    "print(\"Total Patients in Train set: \",train_df['patientid'].nunique())\n",
    "print(\"Total Patients in Test set: \",test_df['patientid'].nunique())"
   ]
  },
  {
   "cell_type": "code",
   "execution_count": 7,
   "metadata": {
    "pycharm": {
     "name": "#%%\n"
    }
   },
   "outputs": [
    {
     "name": "stdout",
     "output_type": "stream",
     "text": [
      "Index(['case_id', 'Hospital_code', 'Hospital_type_code', 'City_Code_Hospital',\n",
      "       'Hospital_region_code', 'Available Extra Rooms in Hospital',\n",
      "       'Department', 'Ward_Type', 'Ward_Facility_Code', 'Bed Grade',\n",
      "       'patientid', 'City_Code_Patient', 'Type of Admission',\n",
      "       'Severity of Illness', 'Visitors with Patient', 'Age',\n",
      "       'Admission_Deposit', 'Stay'],\n",
      "      dtype='object')\n",
      "Index(['case_id', 'Hospital_code', 'Hospital_type_code', 'City_Code_Hospital',\n",
      "       'Hospital_region_code', 'Available Extra Rooms in Hospital',\n",
      "       'Department', 'Ward_Type', 'Ward_Facility_Code', 'Bed Grade',\n",
      "       'patientid', 'City_Code_Patient', 'Type of Admission',\n",
      "       'Severity of Illness', 'Visitors with Patient', 'Age',\n",
      "       'Admission_Deposit'],\n",
      "      dtype='object')\n"
     ]
    }
   ],
   "source": [
    "print(train_df.columns)\n",
    "print(test_df.columns)"
   ]
  },
  {
   "cell_type": "code",
   "execution_count": 8,
   "metadata": {
    "pycharm": {
     "name": "#%%\n"
    }
   },
   "outputs": [
    {
     "name": "stdout",
     "output_type": "stream",
     "text": [
      "Number of unique values of case_id column in train_df dataset are 318438 \n",
      "The unique values of case_id column in train_df dataset are [     1      2      3 ... 318436 318437 318438] \n",
      "Number of unique values of Hospital_code column in train_df dataset are 32 \n",
      "The unique values of Hospital_code column in train_df dataset are [ 8  2 10 26 23 32  1 22 16  9  6 29 12  3 21 28 27 19  5 14 13 31 24 17\n",
      " 25 15 11 30 18  4  7 20] \n",
      "Number of unique values of Hospital_type_code column in train_df dataset are 7 \n",
      "The unique values of Hospital_type_code column in train_df dataset are ['c' 'e' 'b' 'a' 'f' 'd' 'g'] \n",
      "Number of unique values of City_Code_Hospital column in train_df dataset are 11 \n",
      "The unique values of City_Code_Hospital column in train_df dataset are [ 3  5  1  2  6  9 10  4 11  7 13] \n",
      "Number of unique values of Hospital_region_code column in train_df dataset are 3 \n",
      "The unique values of Hospital_region_code column in train_df dataset are ['Z' 'X' 'Y'] \n",
      "Number of unique values of Available Extra Rooms in Hospital column in train_df dataset are 18 \n",
      "The unique values of Available Extra Rooms in Hospital column in train_df dataset are [ 3  2  1  4  6  5  7  8  9 10 12  0 11 20 14 21 13 24] \n",
      "Number of unique values of Department column in train_df dataset are 5 \n",
      "The unique values of Department column in train_df dataset are ['radiotherapy' 'anesthesia' 'gynecology' 'TB & Chest disease' 'surgery'] \n",
      "Number of unique values of Ward_Type column in train_df dataset are 6 \n",
      "The unique values of Ward_Type column in train_df dataset are ['R' 'S' 'Q' 'P' 'T' 'U'] \n",
      "Number of unique values of Ward_Facility_Code column in train_df dataset are 6 \n",
      "The unique values of Ward_Facility_Code column in train_df dataset are ['F' 'E' 'D' 'B' 'A' 'C'] \n",
      "Number of unique values of Bed Grade column in train_df dataset are 4 \n",
      "The unique values of Bed Grade column in train_df dataset are [2. 3. 4. 1.] \n",
      "Number of unique values of patientid column in train_df dataset are 92017 \n",
      "The unique values of patientid column in train_df dataset are [ 31397  63418   8088 ... 125235  91081  21641] \n",
      "Number of unique values of City_Code_Patient column in train_df dataset are 37 \n",
      "The unique values of City_Code_Patient column in train_df dataset are [ 7.  8.  2.  5.  6.  3.  4.  1.  9. 14. 25. 15. 12. 10. 28. 24. 23. 20.\n",
      " 11. 13. 21. 18. 16. 26. 27. 22. 19. 31. 34. 32. 30. 29. 37. 33. 35. 36.\n",
      " 38.] \n",
      "Number of unique values of Type of Admission column in train_df dataset are 3 \n",
      "The unique values of Type of Admission column in train_df dataset are ['Emergency' 'Trauma' 'Urgent'] \n",
      "Number of unique values of Severity of Illness column in train_df dataset are 3 \n",
      "The unique values of Severity of Illness column in train_df dataset are ['Extreme' 'Moderate' 'Minor'] \n",
      "Number of unique values of Visitors with Patient column in train_df dataset are 28 \n",
      "The unique values of Visitors with Patient column in train_df dataset are [ 2  4  3  8  6  7 13  5  1 10 15 11 12  9 24 16 14 20  0 19 18 17 23 21\n",
      " 32 30 22 25] \n",
      "Number of unique values of Age column in train_df dataset are 10 \n",
      "The unique values of Age column in train_df dataset are ['51-60' '71-80' '31-40' '41-50' '81-90' '61-70' '21-30' '20-Nov' '0-10'\n",
      " '91-100'] \n",
      "Number of unique values of Admission_Deposit column in train_df dataset are 7300 \n",
      "The unique values of Admission_Deposit column in train_df dataset are [4911 5954 4745 ... 1937 9439 2349] \n",
      "Number of unique values of Stay column in train_df dataset are 11 \n",
      "The unique values of Stay column in train_df dataset are ['0-10' '41-50' '31-40' '20-Nov' '51-60' '21-30' '71-80'\n",
      " 'More than 100 Days' '81-90' '61-70' '91-100'] \n",
      "Number of unique values of case_id column in train_df dataset are 137057 \n",
      "The unique values of case_id column in train_df dataset are [318439 318440 318441 ... 455493 455494 455495] \n",
      "Number of unique values of Hospital_code column in train_df dataset are 32 \n",
      "The unique values of Hospital_code column in train_df dataset are [21 29 26  6 28 23 25 10  4 16 19 32 11  1 15 31  3 18  5 27  8 13 14 17\n",
      " 22 30 24  2  9 12  7 20] \n",
      "Number of unique values of Hospital_type_code column in train_df dataset are 7 \n",
      "The unique values of Hospital_type_code column in train_df dataset are ['c' 'a' 'b' 'e' 'f' 'd' 'g'] \n",
      "Number of unique values of City_Code_Hospital column in train_df dataset are 11 \n",
      "The unique values of City_Code_Hospital column in train_df dataset are [ 3  4  2  6 11  1  7  9 10  5 13] \n",
      "Number of unique values of Hospital_region_code column in train_df dataset are 3 \n",
      "The unique values of Hospital_region_code column in train_df dataset are ['Z' 'X' 'Y'] \n",
      "Number of unique values of Available Extra Rooms in Hospital column in train_df dataset are 15 \n",
      "The unique values of Available Extra Rooms in Hospital column in train_df dataset are [ 3  2  4  1  5  6  8  7  9 10 12  0 21 11 13] \n",
      "Number of unique values of Department column in train_df dataset are 5 \n",
      "The unique values of Department column in train_df dataset are ['gynecology' 'anesthesia' 'TB & Chest disease' 'radiotherapy' 'surgery'] \n",
      "Number of unique values of Ward_Type column in train_df dataset are 6 \n",
      "The unique values of Ward_Type column in train_df dataset are ['S' 'Q' 'R' 'P' 'T' 'U'] \n",
      "Number of unique values of Ward_Facility_Code column in train_df dataset are 6 \n",
      "The unique values of Ward_Facility_Code column in train_df dataset are ['A' 'F' 'D' 'E' 'C' 'B'] \n",
      "Number of unique values of Bed Grade column in train_df dataset are 4 \n",
      "The unique values of Bed Grade column in train_df dataset are [2. 4. 3. 1.] \n",
      "Number of unique values of patientid column in train_df dataset are 39607 \n",
      "The unique values of patientid column in train_df dataset are [ 17006  95946  40728 ...  81811  57021 126729] \n",
      "Number of unique values of City_Code_Patient column in train_df dataset are 37 \n",
      "The unique values of City_Code_Patient column in train_df dataset are [ 2.  8.  7. 14.  1. 10. 12.  5. 15.  4. 21.  6.  9. 28. 34. 23. 22.  3.\n",
      " 30. 20. 11. 26. 13. 18. 27. 19. 25. 31. 16. 29. 24. 33. 32. 37. 38. 36.\n",
      " 35.] \n",
      "Number of unique values of Type of Admission column in train_df dataset are 3 \n",
      "The unique values of Type of Admission column in train_df dataset are ['Emergency' 'Trauma' 'Urgent'] \n",
      "Number of unique values of Severity of Illness column in train_df dataset are 3 \n",
      "The unique values of Severity of Illness column in train_df dataset are ['Moderate' 'Extreme' 'Minor'] \n",
      "Number of unique values of Visitors with Patient column in train_df dataset are 27 \n",
      "The unique values of Visitors with Patient column in train_df dataset are [ 2  4  3  6  5  7  8 12 10  1  9 16 11 15 24 13 20 14 17  0 29 21 18 22\n",
      " 19 32 30] \n",
      "Number of unique values of Age column in train_df dataset are 10 \n",
      "The unique values of Age column in train_df dataset are ['71-80' '31-40' '51-60' '41-50' '11-20' '61-70' '21-30' '81-90' '0-10'\n",
      " '91-100'] \n",
      "Number of unique values of Admission_Deposit column in train_df dataset are 6609 \n",
      "The unique values of Admission_Deposit column in train_df dataset are [3095. 4018. 4492. ... 2186. 8949. 8316.] \n",
      "Trauma       0.478150\n",
      "Emergency    0.369541\n",
      "Urgent       0.152309\n",
      "Name: Type of Admission, dtype: float64\n",
      "Moderate    0.552205\n",
      "Minor       0.269666\n",
      "Extreme     0.178129\n",
      "Name: Severity of Illness, dtype: float64\n",
      "gynecology            0.783468\n",
      "anesthesia            0.093108\n",
      "radiotherapy          0.089550\n",
      "TB & Chest disease    0.030103\n",
      "surgery               0.003772\n",
      "Name: Department, dtype: float64\n"
     ]
    }
   ],
   "source": [
    "for col in train_df.columns:\n",
    "    print('Number of unique values of '+col+' column in train_df dataset are {} '.format(train_df[col].nunique()))\n",
    "    print('The unique values of '+col+' column in train_df dataset are {} '.format(train_df[col].unique()))\n",
    "\n",
    "for col in test_df.columns:\n",
    "    print('Number of unique values of '+col+' column in train_df dataset are {} '.format(test_df[col].nunique()))\n",
    "    print('The unique values of '+col+' column in train_df dataset are {} '.format(test_df[col].unique()))\n",
    "    \n",
    "print(train_df['Type of Admission'].value_counts(normalize=True))\n",
    "print(train_df['Severity of Illness'].value_counts(normalize=True))\n",
    "print(train_df['Department'].value_counts(normalize=True))"
   ]
  },
  {
   "cell_type": "code",
   "execution_count": 9,
   "metadata": {
    "pycharm": {
     "name": "#%%\n"
    }
   },
   "outputs": [
    {
     "name": "stdout",
     "output_type": "stream",
     "text": [
      "case_id                                int64\n",
      "Hospital_code                          int64\n",
      "Hospital_type_code                    object\n",
      "City_Code_Hospital                     int64\n",
      "Hospital_region_code                  object\n",
      "Available Extra Rooms in Hospital      int64\n",
      "Department                            object\n",
      "Ward_Type                             object\n",
      "Ward_Facility_Code                    object\n",
      "Bed Grade                            float64\n",
      "patientid                              int64\n",
      "City_Code_Patient                    float64\n",
      "Type of Admission                     object\n",
      "Severity of Illness                   object\n",
      "Visitors with Patient                  int64\n",
      "Age                                   object\n",
      "Admission_Deposit                      int64\n",
      "Stay                                  object\n",
      "dtype: object\n",
      "case_id                                int64\n",
      "Hospital_code                          int64\n",
      "Hospital_type_code                    object\n",
      "City_Code_Hospital                     int64\n",
      "Hospital_region_code                  object\n",
      "Available Extra Rooms in Hospital      int64\n",
      "Department                            object\n",
      "Ward_Type                             object\n",
      "Ward_Facility_Code                    object\n",
      "Bed Grade                            float64\n",
      "patientid                              int64\n",
      "City_Code_Patient                    float64\n",
      "Type of Admission                     object\n",
      "Severity of Illness                   object\n",
      "Visitors with Patient                  int64\n",
      "Age                                   object\n",
      "Admission_Deposit                    float64\n",
      "dtype: object\n"
     ]
    }
   ],
   "source": [
    "print(train_df.dtypes)\n",
    "print(test_df.dtypes)\n"
   ]
  },
  {
   "cell_type": "code",
   "execution_count": 10,
   "metadata": {
    "pycharm": {
     "name": "#%%.\n"
    }
   },
   "outputs": [
    {
     "name": "stdout",
     "output_type": "stream",
     "text": [
      "21-30                 87491\n",
      "20-Nov                78139\n",
      "31-40                 55159\n",
      "51-60                 35018\n",
      "0-10                  23604\n",
      "41-50                 11743\n",
      "71-80                 10254\n",
      "More than 100 Days     6683\n",
      "81-90                  4838\n",
      "91-100                 2765\n",
      "61-70                  2744\n",
      "Name: Stay, dtype: int64\n",
      "21-30                 0.274751\n",
      "20-Nov                0.245382\n",
      "31-40                 0.173217\n",
      "51-60                 0.109968\n",
      "0-10                  0.074124\n",
      "41-50                 0.036877\n",
      "71-80                 0.032201\n",
      "More than 100 Days    0.020987\n",
      "81-90                 0.015193\n",
      "91-100                0.008683\n",
      "61-70                 0.008617\n",
      "Name: Stay, dtype: float64\n",
      "['0-10' '41-50' '31-40' '20-Nov' '51-60' '21-30' '71-80'\n",
      " 'More than 100 Days' '81-90' '61-70' '91-100']\n",
      "11\n"
     ]
    }
   ],
   "source": [
    "# Target class distribution.\n",
    "print(train_df['Stay'].value_counts())\n",
    "print(train_df['Stay'].value_counts(normalize=True))\n",
    "print(train_df['Stay'].unique())\n",
    "print(train_df['Stay'].nunique())\n",
    "\n",
    "le = LabelEncoder()\n",
    "train_df['Stay'] = le.fit_transform(train_df['Stay'])"
   ]
  },
  {
   "cell_type": "code",
   "execution_count": 11,
   "metadata": {
    "pycharm": {
     "name": "#%%\n"
    }
   },
   "outputs": [
    {
     "name": "stdout",
     "output_type": "stream",
     "text": [
      "Hospital_type_code\n",
      "Hospital_region_code\n",
      "Department\n",
      "Ward_Type\n",
      "Ward_Facility_Code\n",
      "Type of Admission\n",
      "Severity of Illness\n",
      "Age\n",
      "Hospital_type_code\n",
      "Hospital_region_code\n",
      "Department\n",
      "Ward_Type\n",
      "Ward_Facility_Code\n",
      "Type of Admission\n",
      "Severity of Illness\n",
      "Age\n"
     ]
    }
   ],
   "source": [
    "hospital_type_map={\n",
    " 'a': 0,\n",
    " 'b': 1,\n",
    " 'c': 2,\n",
    " 'e': 3,\n",
    " 'd': 4,\n",
    " 'f': 5,\n",
    " 'g': 6}\n",
    "\n",
    "hospital_region_map = {'X': 0, 'Y': 1, 'Z': 2}\n",
    "\n",
    "dep_map={'gynecology': 0,\n",
    " 'anesthesia': 1,\n",
    " 'radiotherapy': 2,\n",
    " 'TB & Chest disease': 3,\n",
    " 'surgery': 4}\n",
    "\n",
    "ward_type_map ={'R': 0, 'Q': 1, 'S': 2, 'P': 3, 'T': 4, 'U': 5}\n",
    "ward_fac_map ={'F':0, 'E': 1, 'D':2, 'C': 3, 'B': 4, 'A': 5}\n",
    "admiss_map = {'Trauma': 0, 'Emergency': 1, 'Urgent': 2}\n",
    "Severity_of_Illness={'Minor': 1,'Moderate ': 2,'Extreme': 3}\n",
    "\n",
    "Age = {'0-10': 5,\n",
    "       '11-20': 15,\n",
    "       '21-30': 25,\n",
    "       '31-40': 35,\n",
    "       '41-50': 45,\n",
    "       '51-60': 55,\n",
    "       '61-70': 65,\n",
    "       '71-80': 75,\n",
    "       '81-90': 85,\n",
    "       '91-100': 95\n",
    "        }\n",
    "\n",
    "stay_map = {'21-30': 2,\n",
    " '11-20': 1,\n",
    " '31-40': 3,\n",
    " '51-60': 5,\n",
    " '0-10': 0,\n",
    " '41-50': 4,\n",
    " '71-80': 7,\n",
    " 'More than 100 Days': 10,\n",
    " '81-90': 8,\n",
    " '91-100': 9,\n",
    " '61-70': 6}\n",
    "\n",
    "cols = ['Hospital_type_code',\n",
    "       'Hospital_region_code',\n",
    "       'Department', 'Ward_Type', 'Ward_Facility_Code',\n",
    "        'Type of Admission',\n",
    "       'Severity of Illness','Age'\n",
    "       ]\n",
    "for col in cols:\n",
    "    if train_df[col].dtype==object:\n",
    "        print(col)\n",
    "        lbl = LabelEncoder()\n",
    "        train_df[col] = lbl.fit_transform(train_df[col])\n",
    "\n",
    "for col in cols:\n",
    "    if test_df[col].dtype==object:\n",
    "        print(col)\n",
    "        lbl = LabelEncoder()\n",
    "        test_df[col] = lbl.fit_transform(test_df[col])"
   ]
  },
  {
   "cell_type": "code",
   "execution_count": 12,
   "metadata": {
    "pycharm": {
     "name": "#%%\n"
    }
   },
   "outputs": [
    {
     "name": "stdout",
     "output_type": "stream",
     "text": [
      "patientid\n",
      "1         4\n",
      "2         2\n",
      "4         2\n",
      "6         1\n",
      "7         4\n",
      "         ..\n",
      "131620    9\n",
      "131621    3\n",
      "131622    4\n",
      "131623    2\n",
      "131624    3\n",
      "Name: case_id, Length: 92017, dtype: int64\n"
     ]
    }
   ],
   "source": [
    "# 'Hospital_code','Hospital_type_code','City_Code_Hospital','Hospital_region_code','Available Extra Rooms in Hospital',\n",
    "# 'Department','Ward_Type','Ward_Facility_Code','Bed Grade','City_Code_Patient','Type of Admission','Severity of Illness',\n",
    "# 'Visitors with Patient','Age'.\n",
    "\n",
    "# Total visits of a patient to hospital, total no. of visitors to patient.\n",
    "Encoding = train_df.groupby('patientid')['case_id'].count()\n",
    "print(Encoding)\n",
    "# train_df['total_visits']= train_df['patientid'].map(Encoding)\n",
    "# Encoding = train_df.groupby('patientid')['Visitors with Patient'].sum()\n",
    "# train_df['total_visitors']= train_df['patientid'].map(Encoding)\n",
    "# Encoding = train_df.groupby('patientid')['Visitors with Patient'].mean()\n",
    "# train_df['avg_visitors']= train_df['patientid'].map(Encoding)\n",
    "# print(train_df['total_visits'])\n",
    "\n"
   ]
  },
  {
   "cell_type": "code",
   "execution_count": 13,
   "metadata": {
    "pycharm": {
     "is_executing": true,
     "name": "#%%\n"
    }
   },
   "outputs": [
    {
     "name": "stdout",
     "output_type": "stream",
     "text": [
      "[0.4265481723401583, 0.42218314282125363, 0.42281120462253485, 0.42582590126868486, 0.42623414143951766, 0.4278671021228489, 0.4227798015324708, 0.42840095465393796, 0.4260591024715008, 0.4239236252865622]\n",
      "0.425263314855947\n"
     ]
    }
   ],
   "source": [
    "X = train_df.drop(['Stay','case_id', 'patientid'],axis = 1)\n",
    "Y = train_df['Stay']\n",
    "test_X = test_df.drop([ 'case_id', 'patientid'],axis = 1)\n",
    "\n",
    "fold = StratifiedKFold(n_splits=10, shuffle=True, random_state=2020)\n",
    "i = 1\n",
    "err = []\n",
    "\n",
    "for train_index, test_index in fold.split(X, Y):\n",
    "    x_train, x_val = X.iloc[train_index], X.iloc[test_index]\n",
    "    y_train, y_val = Y.iloc[train_index], Y.iloc[test_index]\n",
    "\n",
    "    scaler = StandardScaler()\n",
    "    x_train = scaler.fit_transform(x_train)\n",
    "    x_val = scaler.transform(x_val)\n",
    "    test_X = scaler.transform(test_X)\n",
    "\n",
    "    m = LGBMClassifier()\n",
    "    m.fit(x_train, y_train)\n",
    "    pred_y = m.predict(x_val)\n",
    "    err.append(accuracy_score(y_val,pred_y))\n",
    "    i = i + 1\n",
    "\n",
    "print(err)\n",
    "print(sum(err)/10)"
   ]
  },
  {
   "cell_type": "code",
   "execution_count": null,
   "metadata": {
    "pycharm": {
     "is_executing": true,
     "name": "#%%\n"
    }
   },
   "outputs": [],
   "source": []
  }
 ],
 "metadata": {
  "kernelspec": {
   "display_name": "Python 3",
   "language": "python",
   "name": "python3"
  },
  "language_info": {
   "codemirror_mode": {
    "name": "ipython",
    "version": 3
   },
   "file_extension": ".py",
   "mimetype": "text/x-python",
   "name": "python",
   "nbconvert_exporter": "python",
   "pygments_lexer": "ipython3",
   "version": "3.6.6"
  }
 },
 "nbformat": 4,
 "nbformat_minor": 1
}
